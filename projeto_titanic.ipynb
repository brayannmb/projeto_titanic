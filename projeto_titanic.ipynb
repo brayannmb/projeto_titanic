{
  "nbformat": 4,
  "nbformat_minor": 0,
  "metadata": {
    "colab": {
      "name": "projeto_titanic.ipynb",
      "provenance": [],
      "collapsed_sections": [],
      "authorship_tag": "ABX9TyPOUbHnKQfBIWO933r2BUb+",
      "include_colab_link": true
    },
    "kernelspec": {
      "name": "python3",
      "display_name": "Python 3"
    },
    "language_info": {
      "name": "python"
    }
  },
  "cells": [
    {
      "cell_type": "markdown",
      "metadata": {
        "id": "view-in-github",
        "colab_type": "text"
      },
      "source": [
        "<a href=\"https://colab.research.google.com/github/brayannmb/projeto_titanic/blob/main/projeto_titanic.ipynb\" target=\"_parent\"><img src=\"https://colab.research.google.com/assets/colab-badge.svg\" alt=\"Open In Colab\"/></a>"
      ]
    },
    {
      "cell_type": "markdown",
      "metadata": {
        "id": "dBJCEdu0EN4s"
      },
      "source": [
        "#**Projeto de Estudos Data Science**\n",
        "\n",
        "--------------------------------------------------------"
      ]
    },
    {
      "cell_type": "markdown",
      "metadata": {
        "id": "vwZGERuKZz2p"
      },
      "source": [
        "# **Hello, world! Projeto do Naufrágio do Titanic**\n",
        "\n",
        "A competição do [Kaggle](https://www.kaggle.com/c/titanic) sobre o conjunto de dados do Naufrágio do Titanic se tornou um dos projetos de estudos iniciais para Cientistas de Dados Juniores que estão começando na área dos dados.\n",
        "\n",
        "Eu, como um bom aspirante a Cientista de Dados Junior, não faria diferente. Começarei os meus estudos por este mesmo projeto, mas com a finalidade de aprender na prática desenvolvendo uma análise exploratória de dados e utilizando modelos de Machine Learning para previsões. "
      ]
    },
    {
      "cell_type": "markdown",
      "metadata": {
        "id": "OUDePgGAWt4k"
      },
      "source": [
        "<center><img width=\"80%\" src=\"https://github.com/brayannmb/projeto_titanic/blob/main/banner.jpg?raw=true\"></center>"
      ]
    },
    {
      "cell_type": "markdown",
      "metadata": {
        "id": "hB7iWX0aW2Bs"
      },
      "source": [
        "[Créditos pela imagem](https://www.freepik.com/free-vector/shipwreck-accident-ship-run-aground-sink-ocean_6198150.htm#page=1&query=titanic&position=5&from_view=search)"
      ]
    },
    {
      "cell_type": "markdown",
      "metadata": {
        "id": "sip-8yuXrVKm"
      },
      "source": [
        "##**Introdução**\n",
        "Com a alta do mercado transatlântico de passageiros no início do século XX, as empresas Cunard Line e [White Star Line](https://pt.wikipedia.org/wiki/White_Star_Line), decidem travar uma competição pelo seu espaço no mercado. \n",
        "\n",
        "A [Cunard Line](https://pt.wikipedia.org/wiki/Cunard_Line) decide construir duas grandes embarcações chamadas Lusitania e Mauretania. Em resposta a sua rival, a White Star Line decide construir três grandes návios, o Olympic, o Gigantic (depois chamado de Britannic) e o famoso RMS Titanic.\n",
        "\n",
        "Depois de alguns anos em construção, em 1912 o Titanic é lançado ao mar na sua viagem inaugural saindo da Inglaterra com destino final em Nova Iorque. O návio ganhou a fama de ser **\"inafundável\"**, pois foi equipado com as mais novas tecnologias marítmas da época. No entanto, existem algumas **imprudências** relacionadas ao návio que deveriam ser evitadas antes mesmo de ser lançado ao mar.\n",
        "\n",
        "Como o fato do návio ter um número inferior de botes salva-vidas que o necessário para quantidade de pessoas. O Titanic partiu com apenas 20 botes em seu convés, porém, esse número poderia salvar **metade das 2224 pessoas** que estavam a bordo.\n",
        "\n",
        "Outra negligência que permeia a tragédia, foi o fato dos comandantes não terem realizado a simulação de emergência nos primeiros dias de viagem. O motivo por qual esse treinamento foi cancelado ainda é desconhecido.\n",
        "\n",
        "Sem botes o suficiente e sem treinamento de como usá-los, em uma situação de emergência: **O que fariam mais 1000 pessoas nas águas frias do Oceano Atlântico?**\n",
        "\n",
        "Embora, causas naturais também podem ter sido importante para o acontecido. Na noite de 14 de abril, o mar estava extremamente calmo, o que dificultava a detecção de icebergs. \n",
        "\n",
        "Por volta das 23:40 foi detectado um iceberg em frente ao návio. Os comandantes decidem fazer uma manobra para tentar desviar da pedra de gelo, mas a embarcação já estava muito próxima e acaba colidindo com iceberg, tendo a lateral danificada pela colisão. Foi neste momento em que tudo começou.\n",
        "\n",
        "Infelizmente, acredito que o desfecho dessa história todos nós conhecemos.\n",
        "\n",
        "\n"
      ]
    },
    {
      "cell_type": "markdown",
      "metadata": {
        "id": "35sS0Wjx3zCZ"
      },
      "source": [
        "\n",
        "Depois dessa breve introdução sobre o acontecido, sem mais delongas, vamos para análise!\n",
        "\n",
        "Peraí, **você pensou que eu já iria compartilhar com vocês a análise exploratória de dados?** \n",
        "\n",
        "Nada disso, já levando em consideração as boas práticas para o desenvolvimento de um projeto de Ciência de Dados, com base no modelo [CRISP-DM](https://dnc.group/blog/data-science/metodologia-crisp-dm/), eu vou iniciar este artigo pela compreensão do problema, ou entendimento do negócio."
      ]
    },
    {
      "cell_type": "markdown",
      "metadata": {
        "id": "vXAkQoPmGsNf"
      },
      "source": [
        "##**Compreensão do Negócio**\n",
        "\n",
        "O Titanic se tornou umas das tragédias mais conhecidas pela humanidade, naquela noite morreram mais de 1500 pessoas das 2224 que estavam a bordo do návio.\n",
        "\n",
        "Diante das informações dos passageiros relacionadas a idade, classe, sexo entre outras caracteristicas. O Kaggle promove essa competição com o objetivo que os iniciantes em Ciência de Dados desenvolvam um modelo preditivo supervisionado capaz de prever a probabilidade de sobrevivência dos passageiros. \n"
      ]
    },
    {
      "cell_type": "markdown",
      "metadata": {
        "id": "6QkAf9jVq0z9"
      },
      "source": [
        "###**Métrica de Desempenho**\n",
        "\n",
        "Para calcular o score da competição, o Kaggle considerou a acurácia com métrica de avaliação do modelo."
      ]
    },
    {
      "cell_type": "markdown",
      "metadata": {
        "id": "zdBZ4MUhBJVP"
      },
      "source": [
        "###**Checklist**\n",
        "\n",
        "Como uma maneira de organização, irei seguir as seguintes etapas durante o desenvolvimento deste projeto.\n",
        "\n",
        "1. Obtenção dos dados\n",
        "2. Exploração dos dados\n",
        "3. Preparação dos dados\n",
        "4. Modelagem dos dados\n",
        "5. Avaliação dos resultados"
      ]
    },
    {
      "cell_type": "markdown",
      "metadata": {
        "id": "ikESOGTTmPHF"
      },
      "source": [
        "### **1.Obtenção dos Dados**\n",
        "\n",
        "Para este conjunto de dados foi utilizado os dados de umas competições mais famosas do Kaggle, [Titanic - Machine Learning From Disaster](https://www.kaggle.com/c/titanic). \n",
        "\n",
        "Este conjunto de dados está disposto de três arquivos csv distintos, eles são: \n",
        "* **train.csv:** Dados que serão utilizados para exploração e treino do modelo\n",
        "*  **test.csv:** Dados de teste que serão utilizados para avaliar o desempenho do modelo.\n",
        "* **gender_submission.csv:** Dados que serão utilizados como base de comparação do desempenho do modelo."
      ]
    },
    {
      "cell_type": "markdown",
      "metadata": {
        "id": "i5a2dPIvB7sJ"
      },
      "source": [
        "**Libraries utilizadas:**"
      ]
    },
    {
      "cell_type": "code",
      "metadata": {
        "id": "_SWeUFcyX-jJ"
      },
      "source": [
        "import pandas as pd\n",
        "import numpy as np\n",
        "import matplotlib.pyplot as plt\n",
        "import seaborn as sns "
      ],
      "execution_count": null,
      "outputs": []
    },
    {
      "cell_type": "code",
      "metadata": {
        "id": "_ZVKdESYcB7E"
      },
      "source": [
        "#importing train dataset\n",
        "\n",
        "train = pd.read_csv('https://raw.githubusercontent.com/brayannmb/Data-Science/main/projetos_estudos/projeto_titanic/train.csv')\n",
        "\n",
        "#importing test dataset\n",
        "\n",
        "test = pd.read_csv('https://raw.githubusercontent.com/brayannmb/Data-Science/main/projetos_estudos/projeto_titanic/test.csv')\n",
        "\n",
        "#importing gender_submission\n",
        "\n",
        "gender_submission = pd.read_csv('https://raw.githubusercontent.com/brayannmb/Data-Science/main/projetos_estudos/projeto_titanic/gender_submission.csv')"
      ],
      "execution_count": null,
      "outputs": []
    },
    {
      "cell_type": "markdown",
      "metadata": {
        "id": "T6rShbsl_HM8"
      },
      "source": [
        "##**Compreensão dos Dados**\n",
        "\n",
        "> \"É importante entender os pontos fortes e as limitações dos dados porque raramente há uma correspondência exata para o problema\" - *Data Science para Negócios.*\n",
        "\n",
        "Na etapa atual e na seguinte, devemos conhecer melhor os dados com que estamos trabalhando e decidir se é necessário uma nova coleta de dados, pois, não é incomum buscar por novos dados para complementar e melhorar a análise de dados. \n",
        "\n"
      ]
    },
    {
      "cell_type": "markdown",
      "metadata": {
        "id": "fW_8Ty7AmKT8"
      },
      "source": [
        "###**2.Exploração dos Dados**\n",
        "\n",
        "Com o intuito de facilitar o entendimento deste projeto, a seguir está uma explicação de cada variável do conjunto de dados.\n",
        "\n",
        "Dicionário de Variáveis:\n",
        "* **PassengerID:** ID do passageiro\n",
        "* **Survived:** Se o passageiro sobreviveu (variável target)\n",
        "  * 0 = Não\n",
        "  * 1 = Sim\n",
        "* **Class:** Classe do návio\n",
        "  * 1: Primeira classe\n",
        "  * 2: Segunda classe\n",
        "  * 3: Terceira classe\n",
        "* **Name:** Nome do passegeiro\n",
        "* **Sex:** Sexo do passegeiro\n",
        "* **Age:** Idade do passageiro\n",
        "* **SibSp:** Número de irmãos/conjugês a bordo\n",
        "* **Parch:** Número de pais/filhos a bordo\n",
        "* **Ticket:** Código do ticket\n",
        "* **Cabin:** Código da cabine\n",
        "* **Embarked:** De onde aquele passegeiro embarcou\n",
        "  * C = Cherbourg \n",
        "  * Q = Queenstown \n",
        "  * S = Southampton\n",
        "\n",
        "\n",
        "Este tópico será voltado para explorar os dados com a finalidade de buscar insights que possa ajudar no entedimento deste conjunto de dados.\n",
        "\n",
        "Como uma boa prática, eu vou começar visualizando as primeiras e as últimas entradas deste conjunto de dados por meio do método `.head()`."
      ]
    },
    {
      "cell_type": "code",
      "metadata": {
        "colab": {
          "base_uri": "https://localhost:8080/",
          "height": 206
        },
        "id": "XRtbcS3vrTxs",
        "outputId": "eb58a2f7-88de-42a9-e9eb-3e1cf5ba75b2"
      },
      "source": [
        "#primeiras entradas do dataset\n",
        "\n",
        "train.head()"
      ],
      "execution_count": null,
      "outputs": [
        {
          "output_type": "execute_result",
          "data": {
            "text/html": [
              "<div>\n",
              "<style scoped>\n",
              "    .dataframe tbody tr th:only-of-type {\n",
              "        vertical-align: middle;\n",
              "    }\n",
              "\n",
              "    .dataframe tbody tr th {\n",
              "        vertical-align: top;\n",
              "    }\n",
              "\n",
              "    .dataframe thead th {\n",
              "        text-align: right;\n",
              "    }\n",
              "</style>\n",
              "<table border=\"1\" class=\"dataframe\">\n",
              "  <thead>\n",
              "    <tr style=\"text-align: right;\">\n",
              "      <th></th>\n",
              "      <th>PassengerId</th>\n",
              "      <th>Survived</th>\n",
              "      <th>Pclass</th>\n",
              "      <th>Name</th>\n",
              "      <th>Sex</th>\n",
              "      <th>Age</th>\n",
              "      <th>SibSp</th>\n",
              "      <th>Parch</th>\n",
              "      <th>Ticket</th>\n",
              "      <th>Fare</th>\n",
              "      <th>Cabin</th>\n",
              "      <th>Embarked</th>\n",
              "    </tr>\n",
              "  </thead>\n",
              "  <tbody>\n",
              "    <tr>\n",
              "      <th>0</th>\n",
              "      <td>1</td>\n",
              "      <td>0</td>\n",
              "      <td>3</td>\n",
              "      <td>Braund, Mr. Owen Harris</td>\n",
              "      <td>male</td>\n",
              "      <td>22.0</td>\n",
              "      <td>1</td>\n",
              "      <td>0</td>\n",
              "      <td>A/5 21171</td>\n",
              "      <td>7.2500</td>\n",
              "      <td>NaN</td>\n",
              "      <td>S</td>\n",
              "    </tr>\n",
              "    <tr>\n",
              "      <th>1</th>\n",
              "      <td>2</td>\n",
              "      <td>1</td>\n",
              "      <td>1</td>\n",
              "      <td>Cumings, Mrs. John Bradley (Florence Briggs Th...</td>\n",
              "      <td>female</td>\n",
              "      <td>38.0</td>\n",
              "      <td>1</td>\n",
              "      <td>0</td>\n",
              "      <td>PC 17599</td>\n",
              "      <td>71.2833</td>\n",
              "      <td>C85</td>\n",
              "      <td>C</td>\n",
              "    </tr>\n",
              "    <tr>\n",
              "      <th>2</th>\n",
              "      <td>3</td>\n",
              "      <td>1</td>\n",
              "      <td>3</td>\n",
              "      <td>Heikkinen, Miss. Laina</td>\n",
              "      <td>female</td>\n",
              "      <td>26.0</td>\n",
              "      <td>0</td>\n",
              "      <td>0</td>\n",
              "      <td>STON/O2. 3101282</td>\n",
              "      <td>7.9250</td>\n",
              "      <td>NaN</td>\n",
              "      <td>S</td>\n",
              "    </tr>\n",
              "    <tr>\n",
              "      <th>3</th>\n",
              "      <td>4</td>\n",
              "      <td>1</td>\n",
              "      <td>1</td>\n",
              "      <td>Futrelle, Mrs. Jacques Heath (Lily May Peel)</td>\n",
              "      <td>female</td>\n",
              "      <td>35.0</td>\n",
              "      <td>1</td>\n",
              "      <td>0</td>\n",
              "      <td>113803</td>\n",
              "      <td>53.1000</td>\n",
              "      <td>C123</td>\n",
              "      <td>S</td>\n",
              "    </tr>\n",
              "    <tr>\n",
              "      <th>4</th>\n",
              "      <td>5</td>\n",
              "      <td>0</td>\n",
              "      <td>3</td>\n",
              "      <td>Allen, Mr. William Henry</td>\n",
              "      <td>male</td>\n",
              "      <td>35.0</td>\n",
              "      <td>0</td>\n",
              "      <td>0</td>\n",
              "      <td>373450</td>\n",
              "      <td>8.0500</td>\n",
              "      <td>NaN</td>\n",
              "      <td>S</td>\n",
              "    </tr>\n",
              "  </tbody>\n",
              "</table>\n",
              "</div>"
            ],
            "text/plain": [
              "   PassengerId  Survived  Pclass  ...     Fare Cabin  Embarked\n",
              "0            1         0       3  ...   7.2500   NaN         S\n",
              "1            2         1       1  ...  71.2833   C85         C\n",
              "2            3         1       3  ...   7.9250   NaN         S\n",
              "3            4         1       1  ...  53.1000  C123         S\n",
              "4            5         0       3  ...   8.0500   NaN         S\n",
              "\n",
              "[5 rows x 12 columns]"
            ]
          },
          "metadata": {},
          "execution_count": 1028
        }
      ]
    },
    {
      "cell_type": "code",
      "metadata": {
        "colab": {
          "base_uri": "https://localhost:8080/",
          "height": 206
        },
        "id": "f3cwEX7-odoB",
        "outputId": "e41d42b2-2571-4bed-8359-a5f3a18e2874"
      },
      "source": [
        "#últimas entradas do dataset\n",
        "\n",
        "train.tail()"
      ],
      "execution_count": null,
      "outputs": [
        {
          "output_type": "execute_result",
          "data": {
            "text/html": [
              "<div>\n",
              "<style scoped>\n",
              "    .dataframe tbody tr th:only-of-type {\n",
              "        vertical-align: middle;\n",
              "    }\n",
              "\n",
              "    .dataframe tbody tr th {\n",
              "        vertical-align: top;\n",
              "    }\n",
              "\n",
              "    .dataframe thead th {\n",
              "        text-align: right;\n",
              "    }\n",
              "</style>\n",
              "<table border=\"1\" class=\"dataframe\">\n",
              "  <thead>\n",
              "    <tr style=\"text-align: right;\">\n",
              "      <th></th>\n",
              "      <th>PassengerId</th>\n",
              "      <th>Survived</th>\n",
              "      <th>Pclass</th>\n",
              "      <th>Name</th>\n",
              "      <th>Sex</th>\n",
              "      <th>Age</th>\n",
              "      <th>SibSp</th>\n",
              "      <th>Parch</th>\n",
              "      <th>Ticket</th>\n",
              "      <th>Fare</th>\n",
              "      <th>Cabin</th>\n",
              "      <th>Embarked</th>\n",
              "    </tr>\n",
              "  </thead>\n",
              "  <tbody>\n",
              "    <tr>\n",
              "      <th>886</th>\n",
              "      <td>887</td>\n",
              "      <td>0</td>\n",
              "      <td>2</td>\n",
              "      <td>Montvila, Rev. Juozas</td>\n",
              "      <td>male</td>\n",
              "      <td>27.0</td>\n",
              "      <td>0</td>\n",
              "      <td>0</td>\n",
              "      <td>211536</td>\n",
              "      <td>13.00</td>\n",
              "      <td>NaN</td>\n",
              "      <td>S</td>\n",
              "    </tr>\n",
              "    <tr>\n",
              "      <th>887</th>\n",
              "      <td>888</td>\n",
              "      <td>1</td>\n",
              "      <td>1</td>\n",
              "      <td>Graham, Miss. Margaret Edith</td>\n",
              "      <td>female</td>\n",
              "      <td>19.0</td>\n",
              "      <td>0</td>\n",
              "      <td>0</td>\n",
              "      <td>112053</td>\n",
              "      <td>30.00</td>\n",
              "      <td>B42</td>\n",
              "      <td>S</td>\n",
              "    </tr>\n",
              "    <tr>\n",
              "      <th>888</th>\n",
              "      <td>889</td>\n",
              "      <td>0</td>\n",
              "      <td>3</td>\n",
              "      <td>Johnston, Miss. Catherine Helen \"Carrie\"</td>\n",
              "      <td>female</td>\n",
              "      <td>NaN</td>\n",
              "      <td>1</td>\n",
              "      <td>2</td>\n",
              "      <td>W./C. 6607</td>\n",
              "      <td>23.45</td>\n",
              "      <td>NaN</td>\n",
              "      <td>S</td>\n",
              "    </tr>\n",
              "    <tr>\n",
              "      <th>889</th>\n",
              "      <td>890</td>\n",
              "      <td>1</td>\n",
              "      <td>1</td>\n",
              "      <td>Behr, Mr. Karl Howell</td>\n",
              "      <td>male</td>\n",
              "      <td>26.0</td>\n",
              "      <td>0</td>\n",
              "      <td>0</td>\n",
              "      <td>111369</td>\n",
              "      <td>30.00</td>\n",
              "      <td>C148</td>\n",
              "      <td>C</td>\n",
              "    </tr>\n",
              "    <tr>\n",
              "      <th>890</th>\n",
              "      <td>891</td>\n",
              "      <td>0</td>\n",
              "      <td>3</td>\n",
              "      <td>Dooley, Mr. Patrick</td>\n",
              "      <td>male</td>\n",
              "      <td>32.0</td>\n",
              "      <td>0</td>\n",
              "      <td>0</td>\n",
              "      <td>370376</td>\n",
              "      <td>7.75</td>\n",
              "      <td>NaN</td>\n",
              "      <td>Q</td>\n",
              "    </tr>\n",
              "  </tbody>\n",
              "</table>\n",
              "</div>"
            ],
            "text/plain": [
              "     PassengerId  Survived  Pclass  ...   Fare Cabin  Embarked\n",
              "886          887         0       2  ...  13.00   NaN         S\n",
              "887          888         1       1  ...  30.00   B42         S\n",
              "888          889         0       3  ...  23.45   NaN         S\n",
              "889          890         1       1  ...  30.00  C148         C\n",
              "890          891         0       3  ...   7.75   NaN         Q\n",
              "\n",
              "[5 rows x 12 columns]"
            ]
          },
          "metadata": {},
          "execution_count": 1029
        }
      ]
    },
    {
      "cell_type": "markdown",
      "metadata": {
        "id": "lyBLTiK5rxxw"
      },
      "source": [
        "A partir dos resultados acima podemos ver que é uma base de dados relativamente pequena com apenas 891 entradas. É possível identificar que a coluna `Cabin` possui valores nulos em ambos os resultados.\n",
        "\n",
        "Sendo assim, um dos próximos passos será analisar quais variáveis possuem valores inválidos e qual a porcentagem destes valores em relação ao conjunto de dados.\n",
        "\n"
      ]
    },
    {
      "cell_type": "markdown",
      "metadata": {
        "id": "t73JL4tw4bjH"
      },
      "source": [
        "**Q1. Quais são os tipos de dados?**\n",
        "\n",
        "Através do método `.info()` é possível extrair diversas informações sobre o conjunto de dados, algumas delas são:\n",
        "* Tipo de dados de cada coluna\n",
        "* Valores faltantes\n",
        "* Quantidade de entradas e variáveis\n",
        "\n"
      ]
    },
    {
      "cell_type": "code",
      "metadata": {
        "colab": {
          "base_uri": "https://localhost:8080/"
        },
        "id": "ss8IyQazuNoY",
        "outputId": "2dc8dff0-dcdd-43fc-c10f-0ffd2fe7fbe3"
      },
      "source": [
        "#informações gerais sobre o conjunto de dados\n",
        "\n",
        "train.info()"
      ],
      "execution_count": null,
      "outputs": [
        {
          "output_type": "stream",
          "name": "stdout",
          "text": [
            "<class 'pandas.core.frame.DataFrame'>\n",
            "RangeIndex: 891 entries, 0 to 890\n",
            "Data columns (total 12 columns):\n",
            " #   Column       Non-Null Count  Dtype  \n",
            "---  ------       --------------  -----  \n",
            " 0   PassengerId  891 non-null    int64  \n",
            " 1   Survived     891 non-null    int64  \n",
            " 2   Pclass       891 non-null    int64  \n",
            " 3   Name         891 non-null    object \n",
            " 4   Sex          891 non-null    object \n",
            " 5   Age          714 non-null    float64\n",
            " 6   SibSp        891 non-null    int64  \n",
            " 7   Parch        891 non-null    int64  \n",
            " 8   Ticket       891 non-null    object \n",
            " 9   Fare         891 non-null    float64\n",
            " 10  Cabin        204 non-null    object \n",
            " 11  Embarked     889 non-null    object \n",
            "dtypes: float64(2), int64(5), object(5)\n",
            "memory usage: 83.7+ KB\n"
          ]
        }
      ]
    },
    {
      "cell_type": "markdown",
      "metadata": {
        "id": "k3xyHOzlekrh"
      },
      "source": [
        "Nota-se que existem variáveis acima que possuem seu tipo primitivo `object`, porém, é declarado como object todas as variáveis que o Python não consegue identificar corretamente, sendo assim, em alguns casos prejudicial para análise.\n",
        "\n",
        "Pensando nisso, irei transformar as variáveis que devem ser categoricas para o tipo `category`."
      ]
    },
    {
      "cell_type": "markdown",
      "metadata": {
        "id": "pN8ns1G8uO2C"
      },
      "source": [
        "De acordo com o resultado acima, foi analisado que: \n",
        "* As variáveis `Age`, `Cabin` e `Embarked` apresentam valores faltantes, especialmnete a variável `Cabin` que possuí apenas **204** valores válidos.\n",
        "* Este conjunto de dados possui 891 entradas e 12 variáveis\n",
        "\n",
        "* Variáveis quantitativas:\n",
        "  * Age\n",
        "  * Sibsp\n",
        "  * Parch\n",
        "  * Fare\n",
        "\n",
        "* Variáveis categóricas:\n",
        "  * PassengerId\n",
        "  * Survived\n",
        "  * Pclass\n",
        "  * Name\n",
        "  * Sex\n",
        "  * Ticket\n",
        "  * Cabin\n",
        "  * Embarked\n",
        "* Todos os tipos de dados estão corretos\n",
        "\n",
        "O próximo passo será buscar mais informações sobres os valores nulos deste dataset."
      ]
    },
    {
      "cell_type": "markdown",
      "metadata": {
        "id": "UDTj71U54r5L"
      },
      "source": [
        "**Q2. Qual a porcentagem de valores ausentes?**"
      ]
    },
    {
      "cell_type": "code",
      "metadata": {
        "colab": {
          "base_uri": "https://localhost:8080/"
        },
        "id": "YobTaxdXxqtu",
        "outputId": "d404cfce-4fbe-413c-9d6f-f964335f1511"
      },
      "source": [
        "train[['Age', 'Cabin', 'Embarked']].isnull().sum().sort_values(ascending=False)[:3]"
      ],
      "execution_count": null,
      "outputs": [
        {
          "output_type": "execute_result",
          "data": {
            "text/plain": [
              "Cabin       687\n",
              "Age         177\n",
              "Embarked      2\n",
              "dtype: int64"
            ]
          },
          "metadata": {},
          "execution_count": 1031
        }
      ]
    },
    {
      "cell_type": "code",
      "metadata": {
        "colab": {
          "base_uri": "https://localhost:8080/"
        },
        "id": "msS2_lh7woHF",
        "outputId": "46c30f99-f235-4022-a12c-7821c1548b61"
      },
      "source": [
        "(train.isnull().sum() / train.shape[0]).sort_values(ascending=False)[:3] "
      ],
      "execution_count": null,
      "outputs": [
        {
          "output_type": "execute_result",
          "data": {
            "text/plain": [
              "Cabin       0.771044\n",
              "Age         0.198653\n",
              "Embarked    0.002245\n",
              "dtype: float64"
            ]
          },
          "metadata": {},
          "execution_count": 1032
        }
      ]
    },
    {
      "cell_type": "code",
      "metadata": {
        "colab": {
          "base_uri": "https://localhost:8080/"
        },
        "id": "RM0Oh8FD85E-",
        "outputId": "e6574761-52fc-414d-e5bb-a6b399da49bd"
      },
      "source": [
        "train1 = train.copy()\n",
        "train1['Age'].fillna(0, inplace=True)\n",
        "train1.Age.sum()"
      ],
      "execution_count": null,
      "outputs": [
        {
          "output_type": "execute_result",
          "data": {
            "text/plain": [
              "21205.17"
            ]
          },
          "metadata": {},
          "execution_count": 1033
        }
      ]
    },
    {
      "cell_type": "markdown",
      "metadata": {
        "id": "na9v2dypynhL"
      },
      "source": [
        "A variável `Cabin` possui **77%** das suas entradas como valores nulos, a variável `Age` tem **19%** de valores nulos e a variável `Embarked` menos de **1%.**"
      ]
    },
    {
      "cell_type": "markdown",
      "metadata": {
        "id": "pp4yq3Vd5s0L"
      },
      "source": [
        "**Q3. Quais são as distribuições estatistícas das variáveis?**\n",
        "\n",
        "Por meio do método `.describe`, é possível retornar algumas medidas estatistícas básicas que facilitam muito o entendimento da distribuição dos dados."
      ]
    },
    {
      "cell_type": "code",
      "metadata": {
        "colab": {
          "base_uri": "https://localhost:8080/",
          "height": 269
        },
        "id": "ipvWg4HbGZDy",
        "outputId": "ea8846ba-c876-4bba-cff3-9148d0df95b0"
      },
      "source": [
        "#informações estatísticas\n",
        "\n",
        "train.describe().T"
      ],
      "execution_count": null,
      "outputs": [
        {
          "output_type": "execute_result",
          "data": {
            "text/html": [
              "<div>\n",
              "<style scoped>\n",
              "    .dataframe tbody tr th:only-of-type {\n",
              "        vertical-align: middle;\n",
              "    }\n",
              "\n",
              "    .dataframe tbody tr th {\n",
              "        vertical-align: top;\n",
              "    }\n",
              "\n",
              "    .dataframe thead th {\n",
              "        text-align: right;\n",
              "    }\n",
              "</style>\n",
              "<table border=\"1\" class=\"dataframe\">\n",
              "  <thead>\n",
              "    <tr style=\"text-align: right;\">\n",
              "      <th></th>\n",
              "      <th>count</th>\n",
              "      <th>mean</th>\n",
              "      <th>std</th>\n",
              "      <th>min</th>\n",
              "      <th>25%</th>\n",
              "      <th>50%</th>\n",
              "      <th>75%</th>\n",
              "      <th>max</th>\n",
              "    </tr>\n",
              "  </thead>\n",
              "  <tbody>\n",
              "    <tr>\n",
              "      <th>PassengerId</th>\n",
              "      <td>891.0</td>\n",
              "      <td>446.000000</td>\n",
              "      <td>257.353842</td>\n",
              "      <td>1.00</td>\n",
              "      <td>223.5000</td>\n",
              "      <td>446.0000</td>\n",
              "      <td>668.5</td>\n",
              "      <td>891.0000</td>\n",
              "    </tr>\n",
              "    <tr>\n",
              "      <th>Survived</th>\n",
              "      <td>891.0</td>\n",
              "      <td>0.383838</td>\n",
              "      <td>0.486592</td>\n",
              "      <td>0.00</td>\n",
              "      <td>0.0000</td>\n",
              "      <td>0.0000</td>\n",
              "      <td>1.0</td>\n",
              "      <td>1.0000</td>\n",
              "    </tr>\n",
              "    <tr>\n",
              "      <th>Pclass</th>\n",
              "      <td>891.0</td>\n",
              "      <td>2.308642</td>\n",
              "      <td>0.836071</td>\n",
              "      <td>1.00</td>\n",
              "      <td>2.0000</td>\n",
              "      <td>3.0000</td>\n",
              "      <td>3.0</td>\n",
              "      <td>3.0000</td>\n",
              "    </tr>\n",
              "    <tr>\n",
              "      <th>Age</th>\n",
              "      <td>714.0</td>\n",
              "      <td>29.699118</td>\n",
              "      <td>14.526497</td>\n",
              "      <td>0.42</td>\n",
              "      <td>20.1250</td>\n",
              "      <td>28.0000</td>\n",
              "      <td>38.0</td>\n",
              "      <td>80.0000</td>\n",
              "    </tr>\n",
              "    <tr>\n",
              "      <th>SibSp</th>\n",
              "      <td>891.0</td>\n",
              "      <td>0.523008</td>\n",
              "      <td>1.102743</td>\n",
              "      <td>0.00</td>\n",
              "      <td>0.0000</td>\n",
              "      <td>0.0000</td>\n",
              "      <td>1.0</td>\n",
              "      <td>8.0000</td>\n",
              "    </tr>\n",
              "    <tr>\n",
              "      <th>Parch</th>\n",
              "      <td>891.0</td>\n",
              "      <td>0.381594</td>\n",
              "      <td>0.806057</td>\n",
              "      <td>0.00</td>\n",
              "      <td>0.0000</td>\n",
              "      <td>0.0000</td>\n",
              "      <td>0.0</td>\n",
              "      <td>6.0000</td>\n",
              "    </tr>\n",
              "    <tr>\n",
              "      <th>Fare</th>\n",
              "      <td>891.0</td>\n",
              "      <td>32.204208</td>\n",
              "      <td>49.693429</td>\n",
              "      <td>0.00</td>\n",
              "      <td>7.9104</td>\n",
              "      <td>14.4542</td>\n",
              "      <td>31.0</td>\n",
              "      <td>512.3292</td>\n",
              "    </tr>\n",
              "  </tbody>\n",
              "</table>\n",
              "</div>"
            ],
            "text/plain": [
              "             count        mean         std  ...       50%    75%       max\n",
              "PassengerId  891.0  446.000000  257.353842  ...  446.0000  668.5  891.0000\n",
              "Survived     891.0    0.383838    0.486592  ...    0.0000    1.0    1.0000\n",
              "Pclass       891.0    2.308642    0.836071  ...    3.0000    3.0    3.0000\n",
              "Age          714.0   29.699118   14.526497  ...   28.0000   38.0   80.0000\n",
              "SibSp        891.0    0.523008    1.102743  ...    0.0000    1.0    8.0000\n",
              "Parch        891.0    0.381594    0.806057  ...    0.0000    0.0    6.0000\n",
              "Fare         891.0   32.204208   49.693429  ...   14.4542   31.0  512.3292\n",
              "\n",
              "[7 rows x 8 columns]"
            ]
          },
          "metadata": {},
          "execution_count": 1034
        }
      ]
    },
    {
      "cell_type": "markdown",
      "metadata": {
        "id": "7i0-HRP6H57l"
      },
      "source": [
        "De acordo com o resultado acima, analisando a variável `Age` nos mostra que existiam bebês a bordo com menos de 1 ano de idade. \n",
        "\n",
        "A média de idades está em 29 anos. Um valor que parece não ter sido afetado, pois a mediana está bem próxima, em 28 anos. Nota-se que existe uma pessoa com 80 anos, por ser um valor muito distoante poderia ter afetado a média. \n",
        "\n",
        "Olhando para as variáveis `SibSp` e `Parch` mostram que existiam passageiros que estavam viajando com mais de 5 familiares.\n",
        "\n",
        "Infelizmente essas informações não são muito relevantes para análise em questão."
      ]
    },
    {
      "cell_type": "code",
      "metadata": {
        "colab": {
          "base_uri": "https://localhost:8080/",
          "height": 175
        },
        "id": "ZWiUpPUlfAtw",
        "outputId": "f6f530ac-4c40-45b4-c2dd-3f7efb339e02"
      },
      "source": [
        "train.describe(include=['O'])"
      ],
      "execution_count": null,
      "outputs": [
        {
          "output_type": "execute_result",
          "data": {
            "text/html": [
              "<div>\n",
              "<style scoped>\n",
              "    .dataframe tbody tr th:only-of-type {\n",
              "        vertical-align: middle;\n",
              "    }\n",
              "\n",
              "    .dataframe tbody tr th {\n",
              "        vertical-align: top;\n",
              "    }\n",
              "\n",
              "    .dataframe thead th {\n",
              "        text-align: right;\n",
              "    }\n",
              "</style>\n",
              "<table border=\"1\" class=\"dataframe\">\n",
              "  <thead>\n",
              "    <tr style=\"text-align: right;\">\n",
              "      <th></th>\n",
              "      <th>Name</th>\n",
              "      <th>Sex</th>\n",
              "      <th>Ticket</th>\n",
              "      <th>Cabin</th>\n",
              "      <th>Embarked</th>\n",
              "    </tr>\n",
              "  </thead>\n",
              "  <tbody>\n",
              "    <tr>\n",
              "      <th>count</th>\n",
              "      <td>891</td>\n",
              "      <td>891</td>\n",
              "      <td>891</td>\n",
              "      <td>204</td>\n",
              "      <td>889</td>\n",
              "    </tr>\n",
              "    <tr>\n",
              "      <th>unique</th>\n",
              "      <td>891</td>\n",
              "      <td>2</td>\n",
              "      <td>681</td>\n",
              "      <td>147</td>\n",
              "      <td>3</td>\n",
              "    </tr>\n",
              "    <tr>\n",
              "      <th>top</th>\n",
              "      <td>Taussig, Miss. Ruth</td>\n",
              "      <td>male</td>\n",
              "      <td>347082</td>\n",
              "      <td>G6</td>\n",
              "      <td>S</td>\n",
              "    </tr>\n",
              "    <tr>\n",
              "      <th>freq</th>\n",
              "      <td>1</td>\n",
              "      <td>577</td>\n",
              "      <td>7</td>\n",
              "      <td>4</td>\n",
              "      <td>644</td>\n",
              "    </tr>\n",
              "  </tbody>\n",
              "</table>\n",
              "</div>"
            ],
            "text/plain": [
              "                       Name   Sex  Ticket Cabin Embarked\n",
              "count                   891   891     891   204      889\n",
              "unique                  891     2     681   147        3\n",
              "top     Taussig, Miss. Ruth  male  347082    G6        S\n",
              "freq                      1   577       7     4      644"
            ]
          },
          "metadata": {},
          "execution_count": 1035
        }
      ]
    },
    {
      "cell_type": "markdown",
      "metadata": {
        "id": "NAdp13glg9Rp"
      },
      "source": [
        "Analisando o resultado, podemos concluir que:\n",
        "* Não há *missing values* nas variáveis Name, Sex, Ticket e Embarked;\n",
        "* Que o número de homens é maior do que das mulheres, sendo 577 homens;\n",
        "* Existem Tickets duplicados;\n",
        "* O local que embarcaram mais passegeiros é de Southampton."
      ]
    },
    {
      "cell_type": "markdown",
      "metadata": {
        "id": "Rr5NR9U0OlRK"
      },
      "source": [
        "**Q3.De acordo com o conjunto de dados, quem teve mais chances de sobreviver? Homens ou mulheres?**\n",
        "\n",
        "Em situações de emergência, as crianças e as mulheres são resgatadas primeiro do que os homens. "
      ]
    },
    {
      "cell_type": "code",
      "metadata": {
        "id": "nN3S-IuedtkS"
      },
      "source": [
        "people_survived_df = train.loc[(train.Survived == 1)].copy()\n",
        "falecidos = train.loc[(train.Survived == 0)].copy()"
      ],
      "execution_count": null,
      "outputs": []
    },
    {
      "cell_type": "code",
      "metadata": {
        "colab": {
          "base_uri": "https://localhost:8080/"
        },
        "id": "PzLiE6ZGRTmJ",
        "outputId": "718bcb5a-ce71-4752-a819-643b5b243296"
      },
      "source": [
        "#quantidade de sobreviventes e não sobreviventes\n",
        "\n",
        "people_survived = train.loc[(train.Survived == 1)].shape[0]\n",
        "print(f'Quantidade de sobreviventes: {people_survived}')\n",
        "print(f'Quantidade de não sobreviventes: {train.shape[0] - people_survived}')"
      ],
      "execution_count": null,
      "outputs": [
        {
          "output_type": "stream",
          "name": "stdout",
          "text": [
            "Quantidade de sobreviventes: 342\n",
            "Quantidade de não sobreviventes: 549\n"
          ]
        }
      ]
    },
    {
      "cell_type": "code",
      "metadata": {
        "colab": {
          "base_uri": "https://localhost:8080/"
        },
        "id": "rN3RKMvyPQZX",
        "outputId": "4cf6b163-cb40-453e-b884-6fff6cbf8326"
      },
      "source": [
        "#quantidade de homens e mulheres\n",
        "\n",
        "male = train.loc[(train.Sex == 'male')].shape[0]\n",
        "print(f'Quantidade de homens a bordo: {male}')\n",
        "female = train.loc[(train.Sex == 'female')].shape[0]\n",
        "print(f'Quantidade de mulheres a bordo: {female}')"
      ],
      "execution_count": null,
      "outputs": [
        {
          "output_type": "stream",
          "name": "stdout",
          "text": [
            "Quantidade de homens a bordo: 577\n",
            "Quantidade de mulheres a bordo: 314\n"
          ]
        }
      ]
    },
    {
      "cell_type": "code",
      "metadata": {
        "colab": {
          "base_uri": "https://localhost:8080/"
        },
        "id": "V9a-qVdsOaac",
        "outputId": "efd9264f-d689-4e8e-be61-ca781da82ab9"
      },
      "source": [
        "male_survived = train.loc[(train.Survived == 1) & (train.Sex == 'male')].shape[0]\n",
        "print(f'Quantidade de homens que sobreviveram: {male_survived}')"
      ],
      "execution_count": null,
      "outputs": [
        {
          "output_type": "stream",
          "name": "stdout",
          "text": [
            "Quantidade de homens que sobreviveram: 109\n"
          ]
        }
      ]
    },
    {
      "cell_type": "code",
      "metadata": {
        "colab": {
          "base_uri": "https://localhost:8080/"
        },
        "id": "imziWLM6Pvqa",
        "outputId": "8c9ff264-3172-45db-dcbf-8e27f39f52fe"
      },
      "source": [
        "female_survived = train.loc[(train.Survived == 1) & (train.Sex == 'female')].shape[0]\n",
        "print(f'Quantidade de mulheres que sobreviveram: {female_survived}')"
      ],
      "execution_count": null,
      "outputs": [
        {
          "output_type": "stream",
          "name": "stdout",
          "text": [
            "Quantidade de mulheres que sobreviveram: 233\n"
          ]
        }
      ]
    },
    {
      "cell_type": "code",
      "metadata": {
        "colab": {
          "base_uri": "https://localhost:8080/"
        },
        "id": "xiSRuKEeQu0K",
        "outputId": "725bb015-1e9f-4cc5-e74a-9afe0ba4d117"
      },
      "source": [
        "print(f'Percentual de homens que sobreviveram: {((male_survived / male) * 100):.2f}%')\n",
        "print(f'Percentual de mulheres que sobreviveram: {((female_survived / female) * 100):.2f}%')"
      ],
      "execution_count": null,
      "outputs": [
        {
          "output_type": "stream",
          "name": "stdout",
          "text": [
            "Percentual de homens que sobreviveram: 18.89%\n",
            "Percentual de mulheres que sobreviveram: 74.20%\n"
          ]
        }
      ]
    },
    {
      "cell_type": "code",
      "metadata": {
        "id": "wx1f9DcFcjrR"
      },
      "source": [
        "azul0, azul1, azul2, azul3 = '#a2a7ba', '#5c6f7e', '#465866', '#2d3945'\n",
        "\n",
        "cinza1, cinza2, cinza3, azul = '#878787', '#acacac', '#424242', '#3c2a4d'\n"
      ],
      "execution_count": null,
      "outputs": []
    },
    {
      "cell_type": "code",
      "metadata": {
        "colab": {
          "base_uri": "https://localhost:8080/",
          "height": 383
        },
        "id": "KZqfQ6JkuC04",
        "outputId": "03691223-1a32-432f-ba02-46a94f958252"
      },
      "source": [
        "male_died = train.loc[(train.Sex == 'male') & (train.Survived == 0)].shape[0]\n",
        "female_died = train.loc[(train.Sex == 'female') & (train.Survived == 0)].shape[0]\n",
        "\n",
        "labels1 = ['Mortos', 'Sobreviventes'] \n",
        "data_male = [int(male_died), int(male_survived)]\n",
        "data_female = [female_died, female_survived]\n",
        "\n",
        "x1 = np.arange(len(labels1))\n",
        "width_bar = 0.35\n",
        "\n",
        "fig, ax = plt.subplots(figsize=(10, 5))\n",
        "\n",
        "chart = ax.bar(x1 - width_bar/2, data_male, width_bar, color=azul3, align='center')\n",
        "chart1 = ax.bar(x1 + width_bar/2, data_female, width_bar, color=azul1, align='center')\n",
        "\n",
        "\n",
        "#remover bordas\n",
        "ax.spines['top'].set_visible(False)\n",
        "ax.spines['bottom'].set_visible(False)\n",
        "ax.spines['right'].set_visible(False)\n",
        "ax.spines['left'].set_visible(False)\n",
        "\n",
        "# # remover xticks do eixo x\n",
        "plt.tick_params(\n",
        "    axis='both',         \n",
        "    which='both',     \n",
        "    bottom=False,      \n",
        "    top=False,         \n",
        "    labelbottom=True)\n",
        "\n",
        "#remover eixo y\n",
        "plt.gca().axes.get_yaxis().set_visible(False)\n",
        "\n",
        "#criar função para dar labels automaticamente\n",
        "def autolabel(rects):\n",
        "    for rect in rects:\n",
        "        height = rect.get_height()\n",
        "        ax.annotate(\n",
        "                    '{}'.format(height),\n",
        "                    xy=(rect.get_x() + rect.get_width()/2,  height),\n",
        "                    xytext=(0, -20),  # offset\n",
        "                    textcoords=\"offset points\",\n",
        "                    ha='center',\n",
        "                    va='bottom',\n",
        "                    fontsize=12,\n",
        "                    color=\"white\",\n",
        "                    )\n",
        "\n",
        "plt.text(0.05, 395, '$\\\\bf{HOMENS}$\\n'\n",
        "                    'O percentual de mortes foi\\n'\n",
        "                    'de aproximadamente 81%.', \n",
        "                    fontsize=12, \n",
        "                    color=azul3)\n",
        "\n",
        "\n",
        "plt.text(1.40, 158, '$\\\\bf{MULHERES}$\\n'\n",
        "                    'O percentual de mortes foi\\n'\n",
        "                    'de aproximadamente 34%.', \n",
        "                    fontsize=12, \n",
        "                    color=azul1)\n",
        "\n",
        "plt.text(-0.35, 580, 'Mortes por Sexo', \n",
        "                      fontsize=18, \n",
        "                      color='black', \n",
        "                      weight='bold')\n",
        "\n",
        "plt.text(-0.35, 540, 'Quantidade de mortes por sexo na tragédia do Titanic', color=cinza3, fontsize=13)\n",
        "\n",
        "        \n",
        "# plotar labels dentro das barras\n",
        "autolabel(chart)\n",
        "autolabel(chart1)\n",
        "\n",
        "#adicionar labels\n",
        "ax.set_xticks(x1)\n",
        "ax.set_xticklabels(labels1)\n",
        "\n",
        "\n",
        "plt.show()\n"
      ],
      "execution_count": null,
      "outputs": [
        {
          "output_type": "display_data",
          "data": {
            "image/png": "[encoded data removed]",
            "text/plain": [
              "<Figure size 720x360 with 1 Axes>"
            ]
          },
          "metadata": {
            "needs_background": "light"
          }
        }
      ]
    },
    {
      "cell_type": "markdown",
      "metadata": {
        "id": "3UYPSEtm4yOJ"
      },
      "source": [
        "De acordo com as informações apresentadas acima, 74% das mulheres sobreviveram, um valor muito superior ao dos homens que foi de 18%. Embora, o número homens a bordo do návio era superior ao das mulheres, uma diferença de 263 homens."
      ]
    },
    {
      "cell_type": "markdown",
      "metadata": {
        "id": "00bciAZwGsT_"
      },
      "source": [
        "**Q4. De acordo com quantidade sobreviventes, quantos viajavam sozinhos?**\n",
        "\n",
        "Em situações de emergência, as pessoas que estão com suas famílias aumentam muito mais a sua preocupação, pois, querem salvar a si e também seu familiares."
      ]
    },
    {
      "cell_type": "code",
      "metadata": {
        "colab": {
          "base_uri": "https://localhost:8080/"
        },
        "id": "FAdMl2uHH2Ol",
        "outputId": "c77eaed4-14d9-4627-ce75-39603a404de5"
      },
      "source": [
        "alone_passenger = train.loc[(train.Parch == 0) & (train.SibSp == 0) & (train.Survived == 1)].shape[0]\n",
        "\n",
        "print(f'Percentual de passageiros que sobreviveram que viajavam sozinhos: {((alone_passenger / people_survived) * 100):.1f}%')"
      ],
      "execution_count": null,
      "outputs": [
        {
          "output_type": "stream",
          "name": "stdout",
          "text": [
            "Percentual de passageiros que sobreviveram que viajavam sozinhos: 47.7%\n"
          ]
        }
      ]
    },
    {
      "cell_type": "markdown",
      "metadata": {
        "id": "6MrbZfjkJq_V"
      },
      "source": [
        "De acordo com a informação acima, quase metade das pessoas que sobreviveram viajavam sozinhos."
      ]
    },
    {
      "cell_type": "markdown",
      "metadata": {
        "id": "7GeaZtEVK09F"
      },
      "source": [
        "**Q5.Qual o percentual de crianças/adolescentes que sobreviveram por classe?**\n",
        "\n",
        "Para esta análise foi considerado as crianças/adolescentes de 0 a 16 anos."
      ]
    },
    {
      "cell_type": "code",
      "metadata": {
        "colab": {
          "base_uri": "https://localhost:8080/"
        },
        "id": "Bz9Afx0F53Mt",
        "outputId": "77a1893e-1e48-47cf-e999-c543dcade2b5"
      },
      "source": [
        "kid_survived = train.loc[(train.Age < 16) & (train.Survived == 1)]['Pclass']\n",
        "kid_died = train.loc[(train.Age < 16) & (train.Survived == 0)]['Pclass']\n",
        "\n",
        "def percentual(survived, died, n_class):\n",
        "  list_survived = []\n",
        "  list_died = []\n",
        "  survived_aux = 0\n",
        "  died_aux = 0\n",
        "\n",
        "  for x in survived:\n",
        "    if x == n_class:\n",
        "      list_survived.append(x)\n",
        "      survived_aux = len(list_survived)\n",
        "\n",
        "  for c in died:\n",
        "    if c == n_class:\n",
        "      list_died.append(c)\n",
        "      died_aux = len(list_died)\n",
        "\n",
        "  percent = 100 - ((died_aux / (died_aux + survived_aux)) * 100)\n",
        "  quantity_class = died_aux + survived_aux\n",
        "  \n",
        "  return percent, quantity_class \n",
        "\n",
        "print(f'Quantidade de crianças da 1ª Classe: {(percentual(kid_survived, kid_died, 1)[1])}')\n",
        "print(f'Percentual de crianças/adolescentes que sobreviveram na 1ª classe: {(percentual(kid_survived, kid_died, 1)[0]):.0f}%\\n')\n",
        "\n",
        "print(f'Quantidade de crianças da 2ª Classe: {(percentual(kid_survived, kid_died, 2)[1])}')\n",
        "print(f'Percentual de crianças/adolescentes que sobreviveram na 2ª classe: {(percentual(kid_survived, kid_died, 2)[0]):.0f}%\\n')\n",
        "\n",
        "print(f'Quantidade de crianças da 3ª Classe: {(percentual(kid_survived, kid_died, 3)[1])}')\n",
        "print(f'Percentual de crianças/adolescentes que sobreviveram na 3ª classe: {(percentual(kid_survived, kid_died, 3)[0]):.0f}%')\n"
      ],
      "execution_count": null,
      "outputs": [
        {
          "output_type": "stream",
          "name": "stdout",
          "text": [
            "Quantidade de crianças da 1ª Classe: 6\n",
            "Percentual de crianças/adolescentes que sobreviveram na 1ª classe: 83%\n",
            "\n",
            "Quantidade de crianças da 2ª Classe: 19\n",
            "Percentual de crianças/adolescentes que sobreviveram na 2ª classe: 100%\n",
            "\n",
            "Quantidade de crianças da 3ª Classe: 58\n",
            "Percentual de crianças/adolescentes que sobreviveram na 3ª classe: 43%\n"
          ]
        }
      ]
    },
    {
      "cell_type": "code",
      "metadata": {
        "id": "2Vmna6JfLQud"
      },
      "source": [
        "value_class1 = int((percentual(kid_survived, kid_died, 1)[0]))\n",
        "value_class2 = int((percentual(kid_survived, kid_died, 2)[0]))\n",
        "value_class3 = int((percentual(kid_survived, kid_died, 3)[0]))\n",
        "\n",
        "labels2 = ['1ª Classe', '2ª Classe', '3ª Classe']\n",
        "values2 = [value_class1, value_class2, value_class3]\n",
        "cores_chart2 = [azul0, azul0, azul3]\n",
        "\n",
        "x2 = np.arange(len(labels2))\n",
        "width_bar2 = 0.55"
      ],
      "execution_count": null,
      "outputs": []
    },
    {
      "cell_type": "code",
      "metadata": {
        "colab": {
          "base_uri": "https://localhost:8080/",
          "height": 479
        },
        "id": "DslIEZi5oTjM",
        "outputId": "780c9984-6750-4398-bb3d-4027b10786b6"
      },
      "source": [
        "fig, ax = plt.subplots(figsize= (10,6))\n",
        "\n",
        "bars_crianca_sob = ax.bar(x2 - width_bar2/2, values2, width_bar2, label='Antes', color=cores_chart2, align='edge')\n",
        "\n",
        "#adicionar labels\n",
        "ax.set_xticks(x2)\n",
        "ax.set_xticklabels(labels2)\n",
        "\n",
        "#remover grid\n",
        "ax.spines['right'].set_visible(False)\n",
        "ax.spines['left'].set_visible(False)\n",
        "ax.spines['top'].set_visible(False)\n",
        "ax.spines['bottom'].set_visible(False)\n",
        "\n",
        "#remover eixo y\n",
        "plt.gca().axes.get_yaxis().set_visible(False)\n",
        "\n",
        "# # remover xticks do eixo x\n",
        "plt.tick_params(\n",
        "    axis='both',         \n",
        "    which='both',     \n",
        "    bottom=False,      \n",
        "    top=False,         \n",
        "    labelbottom=True)\n",
        "\n",
        "\n",
        "#criar função para dar labels automaticamente\n",
        "def autolabel(rects):\n",
        "    for rect in rects:\n",
        "        height = rect.get_height()\n",
        "        ax.annotate(\n",
        "                    '{}'.format(height),\n",
        "                    xy=(rect.get_x() + rect.get_width()/2.2,  height),\n",
        "                    xytext=(0, -20),  # offset\n",
        "                    textcoords=\"offset points\",\n",
        "                    ha='center',\n",
        "                    va='bottom',\n",
        "                    fontsize=12,\n",
        "                    color=\"white\",\n",
        "                    )\n",
        "        \n",
        "# plotar labels dentro das barras\n",
        "autolabel(bars_crianca_sob)\n",
        "\n",
        "# plotar título\n",
        "plt.text(-0.28, 135, 'Crianças Sobreviventes por Classe do Titanic',\n",
        "         fontsize=16, \n",
        "         color='black',\n",
        "         weight='bold')\n",
        "\n",
        "ax.annotate(\"Este gráfico contém o percentual de crianças e adolescentes\\n\"\n",
        "            \"até 16 anos que sobreviveram em cada classe do návio.\",\n",
        "            xy=(.074, .920), xycoords='figure fraction',\n",
        "            horizontalalignment='left', verticalalignment='top',\n",
        "            fontsize=12,\n",
        "            color=cinza3)\n",
        "\n",
        "# plotar título\n",
        "plt.text(0.009, 77.455, '%',\n",
        "         fontsize=12, \n",
        "         color='#FFFFFF')\n",
        "# plotar título\n",
        "plt.text(1.026, 94.480, '%',\n",
        "         fontsize=12, \n",
        "         color='white')\n",
        "# plotar título\n",
        "plt.text(2.009, 37.570, '%',\n",
        "         fontsize=12, \n",
        "         color='white')\n",
        "\n",
        "plt.text(2.4, 43.5,\n",
        "         \"$\\\\bf{RESULTADO}$\\n\",\n",
        "         verticalalignment=\"top\",\n",
        "         fontsize=12,\n",
        "         color=azul3)\n",
        "\n",
        "plt.text(2.4, 37,\n",
        "         \"Na 3ª classe foi encontrado o menor percentual\\n\"\n",
        "         \"de crianças sobreviventes, com 43%. No entanto, \\n\"\n",
        "         \"vale ressaltar que essa classe possuia uma\\n\"\n",
        "         \"quantidade superior de crianças.\\n\"\n",
        "         ,\n",
        "         verticalalignment=\"top\",\n",
        "         fontsize=12,\n",
        "         color=azul3)\n",
        "\n",
        "plt.show()"
      ],
      "execution_count": null,
      "outputs": [
        {
          "output_type": "display_data",
          "data": {
            "image/png": "[encoded data removed]",
            "text/plain": [
              "<Figure size 720x432 with 1 Axes>"
            ]
          },
          "metadata": {
            "needs_background": "light"
          }
        }
      ]
    },
    {
      "cell_type": "markdown",
      "metadata": {
        "id": "dr9AWKtH5-5a"
      },
      "source": [
        "De acordo com a situção de emergência, as crianças deveriam ser salvas primeiro, porém, os dados mostram que as crianças que estavam na 3ª classe tiveram chances menores de sobreviver a tragédia."
      ]
    },
    {
      "cell_type": "markdown",
      "metadata": {
        "id": "7WP9qlXNUh47"
      },
      "source": [
        "**Q6. Qual classe teve o maior número de sobreviventes?**\n",
        "\n",
        "Será que algumas das classes teve maiores chances de sobrevivência?"
      ]
    },
    {
      "cell_type": "code",
      "metadata": {
        "colab": {
          "base_uri": "https://localhost:8080/"
        },
        "id": "0hN8VHW4dwhP",
        "outputId": "752ae6b8-f2ed-4830-e819-6d8e42b1c6ae"
      },
      "source": [
        "people_survived2 = train.loc[(train.Survived == 1)]['Pclass']\n",
        "\n",
        "def sobreviventes(people_died, all_people, n_classe):\n",
        "  \n",
        "  people = []\n",
        "  people_survived = []\n",
        "  people_aux = 0\n",
        "  people_died_aux = 0\n",
        "  \n",
        "  for x in people_died:\n",
        "    if x == n_classe:\n",
        "      people_survived.append(x)\n",
        "      people_died_aux = len(people_survived)\n",
        "  \n",
        "  \n",
        "  for c in all_people:\n",
        "    if c == n_classe:\n",
        "      people.append(c)\n",
        "      people_aux = len(people)\n",
        "  \n",
        "\n",
        "  percentual = (people_died_aux / people_aux) * 100\n",
        "  \n",
        "  return percentual\n",
        "\n",
        "print(f'Percentual de sobreviventes na 1ª classe: {(sobreviventes(people_survived2, train.Pclass, 1)):.0f}%\\n')\n",
        "print(f'Percentual de sobreviventes na 2ª classe: {(sobreviventes(people_survived2, train.Pclass, 2)):.0f}%\\n')\n",
        "print(f'Percentual de sobreviventes na 3ª classe: {(sobreviventes(people_survived2, train.Pclass, 3)):.0f}%\\n')"
      ],
      "execution_count": null,
      "outputs": [
        {
          "output_type": "stream",
          "name": "stdout",
          "text": [
            "Percentual de sobreviventes na 1ª classe: 63%\n",
            "\n",
            "Percentual de sobreviventes na 2ª classe: 47%\n",
            "\n",
            "Percentual de sobreviventes na 3ª classe: 24%\n",
            "\n"
          ]
        }
      ]
    },
    {
      "cell_type": "code",
      "metadata": {
        "id": "Ol0IyCdkTtxT"
      },
      "source": [
        "values_class1 = round(sobreviventes(people_survived2, train.Pclass, 1))\n",
        "values_class2 = round(sobreviventes(people_survived2, train.Pclass, 2))\n",
        "values_class3 = round(sobreviventes(people_survived2, train.Pclass, 3))\n",
        "\n",
        "values_sobreviventes = [values_class1, values_class2, values_class3]\n",
        "\n",
        "cinza1, cinza2, cinza3, azul = '#878787', '#acacac', '#424242', '#3c2a4d'\n",
        "cores_chart3 = [azul0, azul0, azul3]\n",
        "\n",
        "x1 = np.arange(len(labels2))\n",
        "width_bar = 0.55"
      ],
      "execution_count": null,
      "outputs": []
    },
    {
      "cell_type": "code",
      "metadata": {
        "colab": {
          "base_uri": "https://localhost:8080/",
          "height": 454
        },
        "id": "fZZR9_jHU4LT",
        "outputId": "adf793d3-a427-407b-b33e-3feba6a97cbf"
      },
      "source": [
        "fig, ax = plt.subplots(figsize= (10,6))\n",
        "\n",
        "bars_sobreviventes = ax.bar(x1 - width_bar/2, values_sobreviventes, width_bar, label='Antes', color=cores_chart3, align='edge')\n",
        "\n",
        "#adicionar labels\n",
        "x1 = np.arange(len(labels2))\n",
        "ax.set_xticks(x1)\n",
        "ax.set_xticklabels(labels2)\n",
        "\n",
        "#remover grid\n",
        "ax.spines['right'].set_visible(False)\n",
        "ax.spines['left'].set_visible(False)\n",
        "ax.spines['top'].set_visible(False)\n",
        "ax.spines['bottom'].set_visible(False)\n",
        "\n",
        "#remover eixo y\n",
        "plt.gca().axes.get_yaxis().set_visible(False)\n",
        "\n",
        "# # remover xticks do eixo x\n",
        "plt.tick_params(\n",
        "    axis='both',         \n",
        "    which='both',     \n",
        "    bottom=False,      \n",
        "    top=False,         \n",
        "    labelbottom=True)\n",
        "\n",
        "\n",
        "#criar função para dar labels automaticamente\n",
        "def autolabel(rects):\n",
        "    for rect in rects:\n",
        "        height = rect.get_height()\n",
        "        ax.annotate(\n",
        "                    '{}'.format(height),\n",
        "                    xy=(rect.get_x() + rect.get_width()/2.2,  height),\n",
        "                    xytext=(0, -20),  # offset\n",
        "                    textcoords=\"offset points\",\n",
        "                    ha='center',\n",
        "                    va='bottom',\n",
        "                    fontsize=12,\n",
        "                    color=\"white\",\n",
        "                    )\n",
        "        \n",
        "# plotar labels dentro das barras\n",
        "autolabel(bars_sobreviventes)\n",
        "\n",
        "# plotar título\n",
        "plt.text(-0.28, 80, 'Sobreviventes',\n",
        "         fontsize=16, \n",
        "         color='black',\n",
        "         weight='bold')\n",
        "\n",
        "ax.annotate(\"Este gráfico contém o percentual de sobreviventes por\\n\"\n",
        "            \"classe do Titanic.\",\n",
        "            xy=(.074, .930), xycoords='figure fraction',\n",
        "            horizontalalignment='left', verticalalignment='top',\n",
        "            fontsize=12,\n",
        "            color=cinza3)\n",
        "\n",
        "# plotar título\n",
        "plt.text(0.009, 59.600, '%',\n",
        "         fontsize=12, \n",
        "         color='white')\n",
        "# plotar título\n",
        "plt.text(1.009, 43.480, '%',\n",
        "         fontsize=12, \n",
        "         color='white')\n",
        "# plotar título\n",
        "plt.text(2.009, 20.570, '%',\n",
        "         fontsize=12, \n",
        "         color='white')\n",
        "\n",
        "plt.text(2.4, 24,\n",
        "         \"$\\\\bf{RESULTADO}$\\n\",\n",
        "         verticalalignment=\"top\",\n",
        "         fontsize=12,\n",
        "         color=azul3)\n",
        "\n",
        "plt.text(2.4, 18,\n",
        "         \"A 3ª classe teve o menor percentual de sobreviventes.\\n\"\n",
        "         \"No entanto, nesta classe haviam 275 pessoas a mais\\n\"\n",
        "         \"em relação a 1ª classe e 307 para 2ª classe.\\n\"\n",
        "         ,\n",
        "         verticalalignment=\"top\",\n",
        "         fontsize=12,\n",
        "         color=azul3)\n",
        "\n",
        "plt.show()"
      ],
      "execution_count": null,
      "outputs": [
        {
          "output_type": "display_data",
          "data": {
            "image/png": "[encoded data removed]",
            "text/plain": [
              "<Figure size 720x432 with 1 Axes>"
            ]
          },
          "metadata": {
            "needs_background": "light"
          }
        }
      ]
    },
    {
      "cell_type": "markdown",
      "metadata": {
        "id": "2H518r3o3w_Z"
      },
      "source": [
        "Analisando os dados, podemos confirmar a suposição de que uma classe teve mais chances de sobrevivência do que as demais. Mais da metade das pessoas que estavam na 1ª classe conseguiram escapar com vida da tragédia, visto que a classe se situava mais próxima do convés, lugar onde estavam os botes.\n",
        "\n"
      ]
    },
    {
      "cell_type": "markdown",
      "metadata": {
        "id": "VuBalvZvDims"
      },
      "source": [
        "**Q7. Qual era a faixa etária de idade dos sobreviventes do Titanic? A pessoa mais velha que estava na tragédia sobreviveu?**\n",
        "\n",
        "Neste tópico irei abordar informações relacionadas as idades de pessoas que falareceram e também das que sobreviveram. \n",
        "\n",
        "Além disso, julguei interessante em saber se a pessoa mais velha que estava abordo do Titanic sobreviveu ou não."
      ]
    },
    {
      "cell_type": "code",
      "metadata": {
        "colab": {
          "base_uri": "https://localhost:8080/",
          "height": 407
        },
        "id": "fXD9yRn5a4pR",
        "outputId": "fcc1ae93-f41a-46e4-9bf3-7806af285399"
      },
      "source": [
        "fig, ax = plt.subplots(nrows= 1, ncols= 2, figsize=(12,5))\n",
        "\n",
        "age_survived = train.loc[(train.Survived == 1)].copy()\n",
        "age_died = train.loc[(train.Survived == 0)].copy()\n",
        "\n",
        "sns.histplot(data=age_survived, x=\"Age\", kde=True, ax=ax[0], color=azul0)\n",
        "plt.text(-100, 90, \"Faixa Etária de Idade\", fontsize=16, weight='bold')\n",
        "\n",
        "sns.histplot(data=age_died, x=\"Age\", kde=True, ax=ax[1], color=azul2)\n",
        "\n",
        "\n",
        "ax[0].set_title('Sobreviventes')\n",
        "ax[1].set_title('Não Sobreviventes')\n",
        "\n",
        "plt.show()"
      ],
      "execution_count": null,
      "outputs": [
        {
          "output_type": "display_data",
          "data": {
            "image/png": "[encoded data removed]",
            "text/plain": [
              "<Figure size 864x360 with 2 Axes>"
            ]
          },
          "metadata": {
            "needs_background": "light"
          }
        }
      ]
    },
    {
      "cell_type": "markdown",
      "metadata": {
        "id": "651WWeYCkpx7"
      },
      "source": [
        "Analisando os gráficos acima, nota-se que a faixa etária de idades estão entre 18 e 38 anos. Um ponto importante no gráfico de sobreviventes é o pico em idades de 0-5 anos, que confirma a hipótese de que as crianças e as mulheres foram salvas primeiro.\n"
      ]
    },
    {
      "cell_type": "code",
      "metadata": {
        "colab": {
          "base_uri": "https://localhost:8080/",
          "height": 98
        },
        "id": "ZEbJD96MbWq2",
        "outputId": "d7951c11-1e08-44ff-f6ef-6d22b7c0b95e"
      },
      "source": [
        "print(f'Idade da pessoa mais velha: {train.Age.max()}')\n",
        "train.loc[(train.Age == 80)]"
      ],
      "execution_count": null,
      "outputs": [
        {
          "output_type": "stream",
          "name": "stdout",
          "text": [
            "Idade da pessoa mais velha: 80.0\n"
          ]
        },
        {
          "output_type": "execute_result",
          "data": {
            "text/html": [
              "<div>\n",
              "<style scoped>\n",
              "    .dataframe tbody tr th:only-of-type {\n",
              "        vertical-align: middle;\n",
              "    }\n",
              "\n",
              "    .dataframe tbody tr th {\n",
              "        vertical-align: top;\n",
              "    }\n",
              "\n",
              "    .dataframe thead th {\n",
              "        text-align: right;\n",
              "    }\n",
              "</style>\n",
              "<table border=\"1\" class=\"dataframe\">\n",
              "  <thead>\n",
              "    <tr style=\"text-align: right;\">\n",
              "      <th></th>\n",
              "      <th>PassengerId</th>\n",
              "      <th>Survived</th>\n",
              "      <th>Pclass</th>\n",
              "      <th>Name</th>\n",
              "      <th>Sex</th>\n",
              "      <th>Age</th>\n",
              "      <th>SibSp</th>\n",
              "      <th>Parch</th>\n",
              "      <th>Ticket</th>\n",
              "      <th>Fare</th>\n",
              "      <th>Cabin</th>\n",
              "      <th>Embarked</th>\n",
              "    </tr>\n",
              "  </thead>\n",
              "  <tbody>\n",
              "    <tr>\n",
              "      <th>630</th>\n",
              "      <td>631</td>\n",
              "      <td>1</td>\n",
              "      <td>1</td>\n",
              "      <td>Barkworth, Mr. Algernon Henry Wilson</td>\n",
              "      <td>male</td>\n",
              "      <td>80.0</td>\n",
              "      <td>0</td>\n",
              "      <td>0</td>\n",
              "      <td>27042</td>\n",
              "      <td>30.0</td>\n",
              "      <td>A23</td>\n",
              "      <td>S</td>\n",
              "    </tr>\n",
              "  </tbody>\n",
              "</table>\n",
              "</div>"
            ],
            "text/plain": [
              "     PassengerId  Survived  Pclass  ...  Fare Cabin  Embarked\n",
              "630          631         1       1  ...  30.0   A23         S\n",
              "\n",
              "[1 rows x 12 columns]"
            ]
          },
          "metadata": {},
          "execution_count": 1052
        }
      ]
    },
    {
      "cell_type": "markdown",
      "metadata": {
        "id": "9adDZTKS-_y7"
      },
      "source": [
        "Mr. Algernon Henry Wilson, foi a pessoa mais velha a bordo do Naufrágio do Titanic e um dos sobreviventes da tragédia. De acordo com a distribuição de idade dos sobreviventes, Mr. Algernon pode ser considerado um outlier entre as pessoas que sobreviveram a tragédia.\n",
        "\n",
        "[Neste link]((https://www.encyclopedia-titanica.org/titanic-survivor/algernon-barkworth.html)) é possível saber um pouco mais sobre a vida dele."
      ]
    },
    {
      "cell_type": "markdown",
      "metadata": {
        "id": "0WiJMQzsoyGr"
      },
      "source": [
        "**Q8.Qual a correlação entre as variáveis desse conjunto de dados?**\n",
        "\n",
        "A última etapa dessa análise exploratória será verificar se as variáveis possuem correlações entre si."
      ]
    },
    {
      "cell_type": "code",
      "metadata": {
        "colab": {
          "base_uri": "https://localhost:8080/",
          "height": 498
        },
        "id": "F1w89fxkSLB1",
        "outputId": "ec7ff028-6b2d-4df6-8f23-dc254499adb7"
      },
      "source": [
        "fig, ax = plt.subplots(figsize=(8,8))\n",
        "\n",
        "sns.heatmap(train.corr(), square=True, annot=True, cmap='Blues')\n",
        "\n",
        "plt.show()"
      ],
      "execution_count": null,
      "outputs": [
        {
          "output_type": "display_data",
          "data": {
            "image/png": "[encoded data removed]",
            "text/plain": [
              "<Figure size 576x576 with 2 Axes>"
            ]
          },
          "metadata": {
            "needs_background": "light"
          }
        }
      ]
    },
    {
      "cell_type": "markdown",
      "metadata": {
        "id": "exm3ojgHSfDR"
      },
      "source": [
        "Nenhuma das variáveis apresentaram ter correlações fortes."
      ]
    },
    {
      "cell_type": "markdown",
      "metadata": {
        "id": "fOcl0lPEeYmt"
      },
      "source": [
        "##**Preparação dos Dados**\n",
        "\n",
        "Através da análise exploratória realizada acima, foi possível conhecer sobre o conjunto de dados, formular hipóteses, extrair informações relacionadas aos dados e identificar inconsistências.\n",
        "\n",
        "Nessa etapa, farei as devidas manipulações no conjunto de dados visando obter uma boa performance do modelo preditivo, tratando *missing values* que estão presentes no dataset.\n",
        "\n",
        "Quando estamos trabalhando com modelos supervisionados, devemos manter a mesma estrutura dos dados de treino para os dados de teste.\n",
        "\n",
        "Uma boa prática é juntar os dados de treino e teste, dessa maneira podemos realizar as manipulações necessárias em apenas um conjunto de dados e depois fazer a repartição entre dados de treino e teste."
      ]
    },
    {
      "cell_type": "code",
      "metadata": {
        "id": "Wov52pVpsWGL"
      },
      "source": [
        "#salvar os índices dos datasets para recuperação posterior\n",
        "train_idx = train.shape[0]\n",
        "test_idx = test.shape[0]"
      ],
      "execution_count": null,
      "outputs": []
    },
    {
      "cell_type": "code",
      "metadata": {
        "id": "-CpiIZNWsxUa"
      },
      "source": [
        "#salvando a coluna de ID para submissão ao Kaggle\n",
        "passengerId = test.PassengerId\n",
        "target = train.Survived.copy()"
      ],
      "execution_count": null,
      "outputs": []
    },
    {
      "cell_type": "code",
      "metadata": {
        "id": "L29pfjl9s69y"
      },
      "source": [
        "#removendo a coluna survived\n",
        "train.drop(['Survived'], axis=1, inplace=True)\n",
        "\n",
        "#concatenando os dois dataframes\n",
        "df_merged= pd.concat(objs=[train, test], axis=0).reset_index(drop=True)"
      ],
      "execution_count": null,
      "outputs": []
    },
    {
      "cell_type": "markdown",
      "metadata": {
        "id": "ZgerO7C_xdr9"
      },
      "source": [
        "###**Selecionar as Features**\n",
        "\n",
        "Nesta etapa do projeto irei selecionar as features que julguei não serem tão relevantes para etapa de previsões. São colunas que acredito que não irá interferir nos resultados.\n",
        "\n",
        "Neste caso, irei descondiserar as variáveis: `['PassengerID', 'Name', 'Ticket' e 'Cabin']`.\n",
        "\n",
        "Aparentemente e de acordo com analisado, as variáveis `Age` e `Sex` serão importantes para as previsões, pois, as crianças e as mulheres em siuações de emergência, são evacuadas primeiro.\n",
        "\n",
        "A variável `Pclass` também pode ser importante para as previsões. De acordo com a estrutura do Titanic, essa classe estava mais perto do convés, assim, estando mais perto dos botes salva-vidas. De acordo com a análise acima, a 1ª classe teve o maior número de sobreviventes.\n",
        "\n",
        "Mantive as variáveis `Sibsp` e `Parch` porque na análise exploratória mostra que metade das pessoas que sobreviveram estavam viajando sozinhas. "
      ]
    },
    {
      "cell_type": "code",
      "metadata": {
        "id": "LOfPjxM3Y3Jb"
      },
      "source": [
        "df_merged.drop(['PassengerId', 'Name', 'Ticket', 'Cabin'], axis=1, inplace=True)"
      ],
      "execution_count": null,
      "outputs": []
    },
    {
      "cell_type": "markdown",
      "metadata": {
        "id": "2HNaE41DMTDp"
      },
      "source": [
        "###**Valores Ausentes**\n",
        "\n",
        "De acordo com analisado no conjunto de treino, três variáveis possuem  valores ausentes, elas são: `['Cabin', 'Age', 'Embarked']`. No entanto, como fiz a junção dos dataframes de teste e treino, devo analisar novamente quais variáveis possuem valores ausentes e a proporção dos mesmos. \n"
      ]
    },
    {
      "cell_type": "code",
      "metadata": {
        "colab": {
          "base_uri": "https://localhost:8080/"
        },
        "id": "LYxkAGt1xc3r",
        "outputId": "d7a2c0c4-83c5-41fb-d28c-cad4ea0cd4d6"
      },
      "source": [
        "df_merged.isnull().sum()"
      ],
      "execution_count": null,
      "outputs": [
        {
          "output_type": "execute_result",
          "data": {
            "text/plain": [
              "Pclass        0\n",
              "Sex           0\n",
              "Age         263\n",
              "SibSp         0\n",
              "Parch         0\n",
              "Fare          1\n",
              "Embarked      2\n",
              "dtype: int64"
            ]
          },
          "metadata": {},
          "execution_count": 1058
        }
      ]
    },
    {
      "cell_type": "markdown",
      "metadata": {
        "id": "IO1CxLB1yDJc"
      },
      "source": [
        "Os valores ausentes do conjunto de dados permaneceram nas 3 variáveis e também na variável `Fare`.\n",
        "\n",
        "Nesta etapa, irei fazer o tratamento desses valores ausentes por meio do preenchimento dos campos ausentes.\n",
        "\n",
        "A variável `Cabin` não será tratada porque não será utilizada no modelo preditivo."
      ]
    },
    {
      "cell_type": "code",
      "metadata": {
        "colab": {
          "base_uri": "https://localhost:8080/"
        },
        "id": "eEwliS62vI3o",
        "outputId": "48ed3ee9-1591-41a9-e624-bda503790fe6"
      },
      "source": [
        "(df_merged[['Age', 'Embarked']].isnull().sum().sort_values(ascending=False) / df_merged.shape[0]) * 100"
      ],
      "execution_count": null,
      "outputs": [
        {
          "output_type": "execute_result",
          "data": {
            "text/plain": [
              "Age         20.091673\n",
              "Embarked     0.152788\n",
              "dtype: float64"
            ]
          },
          "metadata": {},
          "execution_count": 1059
        }
      ]
    },
    {
      "cell_type": "markdown",
      "metadata": {
        "id": "DsGruOMnywS9"
      },
      "source": [
        "De acordo com o resultado acima, o percentual de valores ausentes:\n",
        "* Variável `Age`: 20%\n",
        "* Variável `Embarked`: 0.15%\n",
        "\n",
        "A variável possue um valor muito pequeno de valores ausentes, sendo possível até mesmo a remoção das linhas, porém, decidi preencher estes campos nulos com o valor mais frequente da variável para não perder nehuma informação do conjunto de dados.\n"
      ]
    },
    {
      "cell_type": "code",
      "metadata": {
        "colab": {
          "base_uri": "https://localhost:8080/"
        },
        "id": "F663K0Vl0Gku",
        "outputId": "dcee4c04-96ac-496c-8393-6319e04b97bb"
      },
      "source": [
        "df_merged.Embarked.describe(include=['O'])"
      ],
      "execution_count": null,
      "outputs": [
        {
          "output_type": "execute_result",
          "data": {
            "text/plain": [
              "count     1307\n",
              "unique       3\n",
              "top          S\n",
              "freq       914\n",
              "Name: Embarked, dtype: object"
            ]
          },
          "metadata": {},
          "execution_count": 1060
        }
      ]
    },
    {
      "cell_type": "markdown",
      "metadata": {
        "id": "zj7FoUVj0dU0"
      },
      "source": [
        "O valor mais frequente da variável `Embarked` é 'S' de Southampton."
      ]
    },
    {
      "cell_type": "code",
      "metadata": {
        "id": "n0QnV23v088S"
      },
      "source": [
        "df_merged.Embarked.fillna('S', axis=0, inplace=True)"
      ],
      "execution_count": null,
      "outputs": []
    },
    {
      "cell_type": "code",
      "metadata": {
        "colab": {
          "base_uri": "https://localhost:8080/"
        },
        "id": "_4u_S55F1Jx6",
        "outputId": "5b8d06c9-a3b2-464b-8fbb-56ef16c8eb36"
      },
      "source": [
        "df_merged.isnull().sum()"
      ],
      "execution_count": null,
      "outputs": [
        {
          "output_type": "execute_result",
          "data": {
            "text/plain": [
              "Pclass        0\n",
              "Sex           0\n",
              "Age         263\n",
              "SibSp         0\n",
              "Parch         0\n",
              "Fare          1\n",
              "Embarked      0\n",
              "dtype: int64"
            ]
          },
          "metadata": {},
          "execution_count": 1062
        }
      ]
    },
    {
      "cell_type": "markdown",
      "metadata": {
        "id": "ele0qnMN1Q6J"
      },
      "source": [
        "Para preencher a variável  `Age` irei utilizar a mediana da coluna, pois, a mediana é uma medida de tendência central que não é influenciada por outliers como a média."
      ]
    },
    {
      "cell_type": "code",
      "metadata": {
        "colab": {
          "base_uri": "https://localhost:8080/"
        },
        "id": "JaM3_yNg1kVq",
        "outputId": "f2d92ae9-ddd2-48fb-b332-bf5c744da247"
      },
      "source": [
        "age_median = df_merged.Age.median()\n",
        "print(f'Mediana da variável Age: {age_median}')\n",
        "\n",
        "df_merged.Age.fillna(age_median, axis=0, inplace=True)"
      ],
      "execution_count": null,
      "outputs": [
        {
          "output_type": "stream",
          "name": "stdout",
          "text": [
            "Mediana da variável Age: 28.0\n"
          ]
        }
      ]
    },
    {
      "cell_type": "code",
      "metadata": {
        "colab": {
          "base_uri": "https://localhost:8080/"
        },
        "id": "F84nG66O12s_",
        "outputId": "d3009761-21ba-4b17-c370-2a1a4c38ffef"
      },
      "source": [
        "df_merged.isnull().sum()"
      ],
      "execution_count": null,
      "outputs": [
        {
          "output_type": "execute_result",
          "data": {
            "text/plain": [
              "Pclass      0\n",
              "Sex         0\n",
              "Age         0\n",
              "SibSp       0\n",
              "Parch       0\n",
              "Fare        1\n",
              "Embarked    0\n",
              "dtype: int64"
            ]
          },
          "metadata": {},
          "execution_count": 1064
        }
      ]
    },
    {
      "cell_type": "markdown",
      "metadata": {
        "id": "yMCSnWy42ChC"
      },
      "source": [
        "Para preencher o único valor ausente da variável `Fare`, também irei utilizar a mediana da coluna. "
      ]
    },
    {
      "cell_type": "code",
      "metadata": {
        "colab": {
          "base_uri": "https://localhost:8080/"
        },
        "id": "xN35Vci_2yDS",
        "outputId": "8c76f6e1-ffcb-4138-d439-f5f814e72797"
      },
      "source": [
        "fare_median = df_merged.Fare.median()\n",
        "print(f'Mediana da variável Fare: {fare_median}')\n",
        "df_merged.Fare.fillna(fare_median, axis=0, inplace=True)"
      ],
      "execution_count": null,
      "outputs": [
        {
          "output_type": "stream",
          "name": "stdout",
          "text": [
            "Mediana da variável Fare: 14.4542\n"
          ]
        }
      ]
    },
    {
      "cell_type": "code",
      "metadata": {
        "colab": {
          "base_uri": "https://localhost:8080/"
        },
        "id": "UQzC7xug2ywF",
        "outputId": "137a3369-4795-42a2-c35b-741a5fe325e7"
      },
      "source": [
        "df_merged.isnull().sum()"
      ],
      "execution_count": null,
      "outputs": [
        {
          "output_type": "execute_result",
          "data": {
            "text/plain": [
              "Pclass      0\n",
              "Sex         0\n",
              "Age         0\n",
              "SibSp       0\n",
              "Parch       0\n",
              "Fare        0\n",
              "Embarked    0\n",
              "dtype: int64"
            ]
          },
          "metadata": {},
          "execution_count": 1066
        }
      ]
    },
    {
      "cell_type": "markdown",
      "metadata": {
        "id": "5UokWF-W6NQW"
      },
      "source": [
        "### **Preparação de Dados para o Modelo Preditivo**\n",
        "\n",
        "Agora que as *features* que serão utilizadas já estão tratadas, irei fazer a manipulação das variáveis categóricas para um tipo numérico, pois, o modelo preditivo não trabalha com variáveis categóricas.\n",
        "\n",
        "Para a variável `Sex`, irei adotar `['male': 0, 'female': 1]`. "
      ]
    },
    {
      "cell_type": "code",
      "metadata": {
        "id": "1utYGdEv7-1s"
      },
      "source": [
        "df_merged.Sex = df_merged.Sex.map({'male': 0, 'female': 1})"
      ],
      "execution_count": null,
      "outputs": []
    },
    {
      "cell_type": "markdown",
      "metadata": {
        "id": "F8vvjb5d8R9V"
      },
      "source": [
        "Para a variável `Embarked`, irei utilizar o conceito de variáveis *dummies* que irá transformar cada categoria da variável `Embarked` em uma nova coluna obtendo as entradas de 0 e 1."
      ]
    },
    {
      "cell_type": "code",
      "metadata": {
        "id": "3l-H_a5p91w1"
      },
      "source": [
        "embarked_dummies = pd.get_dummies(df_merged.Embarked, prefix='Embarked')\n",
        "df_merged = pd.concat(objs=[df_merged, embarked_dummies], axis=1)\n",
        "df_merged.drop('Embarked', axis=1, inplace=True)"
      ],
      "execution_count": null,
      "outputs": []
    },
    {
      "cell_type": "code",
      "metadata": {
        "colab": {
          "base_uri": "https://localhost:8080/"
        },
        "id": "FbJ7A_OC-uVZ",
        "outputId": "764a2981-6c3b-4908-b68b-394a3db41a33"
      },
      "source": [
        "df_merged.columns"
      ],
      "execution_count": null,
      "outputs": [
        {
          "output_type": "execute_result",
          "data": {
            "text/plain": [
              "Index(['Pclass', 'Sex', 'Age', 'SibSp', 'Parch', 'Fare', 'Embarked_C',\n",
              "       'Embarked_Q', 'Embarked_S'],\n",
              "      dtype='object')"
            ]
          },
          "metadata": {},
          "execution_count": 1069
        }
      ]
    },
    {
      "cell_type": "markdown",
      "metadata": {
        "id": "-WNpvt89-vKg"
      },
      "source": [
        "###**Recuperando Conjuntos de Treino e Teste**\n",
        "\n",
        "Com a etapa de preparação dos dados finalizada, irei recuperar os indíces dos conjuntos de dados de treino e teste\n"
      ]
    },
    {
      "cell_type": "code",
      "metadata": {
        "id": "cMTA7o7JXfFY"
      },
      "source": [
        "train = df_merged.iloc[:train_idx]\n",
        "test = df_merged.iloc[train_idx:] "
      ],
      "execution_count": null,
      "outputs": []
    },
    {
      "cell_type": "markdown",
      "metadata": {
        "id": "IGny32o2YltC"
      },
      "source": [
        "##**Modelagem e Avaliação**\n",
        "\n",
        "Depois de analisar e estruturar os dados, chegou o momento de fazer as previsões e descobrir quais passageiros teriam chances de sobreviver a tragédia e submeter a minha solução para o Kaggle.\n",
        "\n",
        "Neste projeto, irei utilizar primeiramente a Regressão Logística pelo fato deste modelo ser apropriado quando estamos trabalhando com uma variável dependente binária, ou seja, 0 e 1."
      ]
    },
    {
      "cell_type": "code",
      "metadata": {
        "id": "V0IZ-1oebMcT"
      },
      "source": [
        "#importando modelo de Regressão Logística\n",
        "from sklearn.linear_model import LogisticRegression"
      ],
      "execution_count": null,
      "outputs": []
    },
    {
      "cell_type": "code",
      "metadata": {
        "colab": {
          "base_uri": "https://localhost:8080/"
        },
        "id": "tMBYDzqRn6lt",
        "outputId": "3201d483-f83d-4fb2-dfec-0b8ef9cb2caa"
      },
      "source": [
        "lr_model = LogisticRegression(solver='liblinear')\n",
        "lr_model.fit(train, target)"
      ],
      "execution_count": null,
      "outputs": [
        {
          "output_type": "execute_result",
          "data": {
            "text/plain": [
              "LogisticRegression(solver='liblinear')"
            ]
          },
          "metadata": {},
          "execution_count": 1072
        }
      ]
    },
    {
      "cell_type": "code",
      "metadata": {
        "colab": {
          "base_uri": "https://localhost:8080/"
        },
        "id": "C4nEUlvpp8Hs",
        "outputId": "08c4ca87-40a9-4e3b-f596-92af128b5d7f"
      },
      "source": [
        "acc_lr_model = lr_model.score(train, target)\n",
        "print(f'Acurácia do modelo de Regressão Logística para o conjunto de treinamento: {(acc_lr_model):.2f}')"
      ],
      "execution_count": null,
      "outputs": [
        {
          "output_type": "stream",
          "name": "stdout",
          "text": [
            "Acurácia do modelo de Regressão Logística para o conjunto de treinamento: 0.80\n"
          ]
        }
      ]
    },
    {
      "cell_type": "code",
      "metadata": {
        "id": "1zB2tU4qqlkh"
      },
      "source": [
        "y_pred_lr_model = lr_model.predict(test)\n",
        "\n",
        "submissao = pd.DataFrame({\n",
        "    'PassengerId' : passengerId,\n",
        "    'Survived' : y_pred_lr_model\n",
        "})\n",
        "\n",
        "submissao.to_csv('./submissao_lr.csv', index=False)"
      ],
      "execution_count": null,
      "outputs": []
    },
    {
      "cell_type": "markdown",
      "metadata": {
        "id": "usBOBm4Wtgzr"
      },
      "source": [
        "Agora que as previsões foram realizada, irei submeter o arquivo submissao.csv na compretição do Kaggle para descobrir qual foi o score obtido."
      ]
    },
    {
      "cell_type": "markdown",
      "metadata": {
        "id": "Z1bchC-ss554"
      },
      "source": [
        "![image.png](data:image/png;base64,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)"
      ]
    },
    {
      "cell_type": "markdown",
      "metadata": {
        "id": "tpbIZ0uOtatU"
      },
      "source": [
        "Analisando o score acima, é possível ver que as previsões estão com um resultado inferior de quando foi treinado, o que é normal, pois os dados tem um fir melhor com o conjunto que foi treinado.\n",
        "\n",
        "O resultado que foi submetido ao Kaggle foi uma acurácia de 76%."
      ]
    },
    {
      "cell_type": "markdown",
      "metadata": {
        "id": "w4xnU8aIu0_A"
      },
      "source": [
        "O segundo modelo de classificação que irei utilizar neste projeto serpa a árvore de decisão."
      ]
    },
    {
      "cell_type": "code",
      "metadata": {
        "id": "bf1FURFaIohE"
      },
      "source": [
        "from sklearn.tree import DecisionTreeClassifier"
      ],
      "execution_count": null,
      "outputs": []
    },
    {
      "cell_type": "code",
      "metadata": {
        "colab": {
          "base_uri": "https://localhost:8080/"
        },
        "id": "C2D3ldnaIuEJ",
        "outputId": "6f0efc0a-6bf9-4fcc-b07c-17359d4479c8"
      },
      "source": [
        "tree_model = DecisionTreeClassifier(max_depth=3)\n",
        "tree_model.fit(train, target)"
      ],
      "execution_count": null,
      "outputs": [
        {
          "output_type": "execute_result",
          "data": {
            "text/plain": [
              "DecisionTreeClassifier(max_depth=3)"
            ]
          },
          "metadata": {},
          "execution_count": 1076
        }
      ]
    },
    {
      "cell_type": "code",
      "metadata": {
        "colab": {
          "base_uri": "https://localhost:8080/"
        },
        "id": "lPF2jXL6I8Kp",
        "outputId": "9caa7643-dd40-45c3-aefa-ec0b13115da3"
      },
      "source": [
        "acc_tree_model = tree_model.score(train, target)\n",
        "print(f'Acurácia do modelo de Árvore de Decisão para o conjunto de treinamento: {(acc_tree_model):.2f}')"
      ],
      "execution_count": null,
      "outputs": [
        {
          "output_type": "stream",
          "name": "stdout",
          "text": [
            "Acurácia do modelo de Árvore de Decisão para o conjunto de treinamento: 0.83\n"
          ]
        }
      ]
    },
    {
      "cell_type": "markdown",
      "metadata": {
        "id": "uf9b90luJmsT"
      },
      "source": [
        "O modelo de árvore de decisão obteve uma acurácia significamente maior, com 83% para os dados de treino. Irei novamente submeter as previsões com base nos dados de teste."
      ]
    },
    {
      "cell_type": "code",
      "metadata": {
        "id": "FxmeRaejJgP1"
      },
      "source": [
        "y_pred_tree_model = tree_model.predict(test)\n",
        "\n",
        "submissao_tree = pd.DataFrame({\n",
        "    'PassengerId' : passengerId,\n",
        "    'Survived' : y_pred_tree_model\n",
        "})\n",
        "\n",
        "submissao_tree.to_csv('./submissao_tree.csv', index=False)"
      ],
      "execution_count": null,
      "outputs": []
    },
    {
      "cell_type": "markdown",
      "metadata": {
        "id": "oV7Am--mLXxY"
      },
      "source": [
        "![image.png](data:image/png;base64,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)"
      ]
    },
    {
      "cell_type": "markdown",
      "metadata": {
        "id": "m7iUZDi-LY_P"
      },
      "source": [
        "O resultado obtido utilizando o modelo de Árvore de Decisão foi de quase 78%."
      ]
    },
    {
      "cell_type": "markdown",
      "metadata": {
        "id": "3x7FwJsfL3FI"
      },
      "source": [
        "##**Considerações Finais**\n",
        "\n",
        "Este projeto foi desenvolvido com o intuito de aprender e colocar em prática os conhecimentos adquridos relacionados a exploração de dados, storytelling e machine learning. \n",
        "\n"
      ]
    },
    {
      "cell_type": "code",
      "metadata": {
        "id": "7FgsyXl0TpAg"
      },
      "source": [
        ""
      ],
      "execution_count": null,
      "outputs": []
    }
  ]
}