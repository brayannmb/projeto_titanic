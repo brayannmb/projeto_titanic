{
  "nbformat": 4,
  "nbformat_minor": 0,
  "metadata": {
    "colab": {
      "name": "projeto_titanic_em_desenvolvimento.ipynb",
      "provenance": [],
      "collapsed_sections": [],
      "authorship_tag": "ABX9TyOif89Ilud5Ng3Ov0ABaaK7",
      "include_colab_link": true
    },
    "kernelspec": {
      "name": "python3",
      "display_name": "Python 3"
    },
    "language_info": {
      "name": "python"
    }
  },
  "cells": [
    {
      "cell_type": "markdown",
      "metadata": {
        "id": "view-in-github",
        "colab_type": "text"
      },
      "source": [
        "<a href=\"https://colab.research.google.com/github/brayannmb/Data-Science/blob/main/projeto_titanic_em_desenvolvimento.ipynb\" target=\"_parent\"><img src=\"https://colab.research.google.com/assets/colab-badge.svg\" alt=\"Open In Colab\"/></a>"
      ]
    },
    {
      "cell_type": "markdown",
      "metadata": {
        "id": "dBJCEdu0EN4s"
      },
      "source": [
        "#**Projeto de Estudos - Ciência de Dados**"
      ]
    },
    {
      "cell_type": "markdown",
      "metadata": {
        "id": "vwZGERuKZz2p"
      },
      "source": [
        "# **Hello, world! Projeto do Naufrágio do Titanic**\n",
        "\n",
        "A competição do [Kaggle](https://www.kaggle.com/c/titanic) sobre o conjunto de dados do Naufrágio do Titanic se tornou um dos projetos de estudos iniciais para Cientistas de Dados Juniores que estão começando na área dos dados.\n",
        "\n",
        "Eu, como um bom aspirante a Cientista de Dados Junior, não faria diferente. Começarei os meus estudos por este mesmo projeto, mas com a finalidade de aprender na prática desenvolvendo uma análise exploratória de dados e utilizando modelos de Machine Learning para previsões. "
      ]
    },
    {
      "cell_type": "markdown",
      "metadata": {
        "id": "1d7e1jwjaeBk"
      },
      "source": [
        "<center><img width=\"50%\" src=\"https://github.com/brayannmb/Data-Science/blob/main/projeto_titanic/banner.png?raw=true\"\n",
        "></center>"
      ]
    },
    {
      "cell_type": "markdown",
      "metadata": {
        "id": "sip-8yuXrVKm"
      },
      "source": [
        "##**Introdução**\n",
        "Com a alta do mercado transatlântico de passageiros no início do século XX, as empresas Cunard Line e [White Star Line](https://pt.wikipedia.org/wiki/White_Star_Line), decidem travar uma competição pelo seu espaço no mercado. \n",
        "\n",
        "A [Cunard Line](https://pt.wikipedia.org/wiki/Cunard_Line) decide construir duas grandes embarcações chamadas Lusitania e Mauretania. Em resposta a sua rival, a White Star Line decide construir três grandes návios, o Olympic, o Gigantic (depois chamado de Britannic) e o famoso RMS Titanic.\n",
        "\n",
        "Depois de alguns anos em construção, em 1912 o Titanic é lançado ao mar na sua viagem inaugural saindo da Inglaterra com destino final em Nova Iorque. O návio ganhou a fama de ser **\"inafundável\"**, pois foi equipado com as mais novas tecnologias marítmas da época. No entanto, existem algumas **imprudências** relacionadas ao návio que deveriam ser evitadas antes mesmo de ser lançado ao mar.\n",
        "\n",
        "Como o fato do návio ter um número inferior de botes salva-vidas que o necessário para quantidade de pessoas. O Titanic partiu com apenas 20 botes em seu convés, porém, esse número poderia salvar **metade das 2224 pessoas** que estavam a bordo.\n",
        "\n",
        "Outra negligência que permeia a tragédia, foi o fato dos comandantes não terem realizado a simulação de emergência nos primeiros dias de viagem. O motivo por qual esse treinamento foi cancelado ainda é desconhecido.\n",
        "\n",
        "Sem botes o suficiente e sem treinamento de como usá-los, em uma situação de emergência: **O que fariam mais 1000 pessoas nas águas frias do Oceano Atlântico?**\n",
        "\n",
        "Embora, causas naturais também podem ter sido importante para o acontecido. Na noite de 14 de abril, o mar estava extremamente calmo, o que dificultava a detecção de icebergs. \n",
        "\n",
        "Por volta das 23:40 foi detectado um iceberg em frente ao návio. Os comandantes decidem fazer uma manobra para tentar desviar da pedra de gelo, mas a embarcação já estava muito próxima e acaba colidindo com iceberg, tendo a lateral danificada pela colisão. Foi neste momento em que tudo começou.\n",
        "\n",
        "Infelizmente, acredito que o desfecho dessa história todos nós conhecemos.\n",
        "\n",
        "\n"
      ]
    },
    {
      "cell_type": "markdown",
      "metadata": {
        "id": "35sS0Wjx3zCZ"
      },
      "source": [
        "\n",
        "Depois dessa breve introdução sobre o acontecido, sem mais delongas, vamos para análise!\n",
        "\n",
        "Peraí, **você pensou que eu já iria compartilhar com vocês a análise exploratória de dados?** \n",
        "\n",
        "Nada disso, já levando em consideração as boas práticas para o desenvolvimento de um projeto de Ciência de Dados, com base no modelo [CRISP-DM](https://dnc.group/blog/data-science/metodologia-crisp-dm/), eu vou iniciar este artigo pela compreensão do problema, ou entendimento do negócio."
      ]
    },
    {
      "cell_type": "markdown",
      "metadata": {
        "id": "vXAkQoPmGsNf"
      },
      "source": [
        "##**Business Understanding**\n",
        "\n",
        "O Titanic se tornou umas das tragédias mais conhecidas pela humanidade, naquela noite morreram mais de 1500 pessoas das 2224 que estavam a bordo do návio.\n",
        "\n",
        "Diante das informações dos passageiros relacionadas a idade, classe, sexo entre outras caracteristicas. O Kaggle promove essa competição com o objetivo que os iniciantes em Ciência de Dados desenvolvam um modelo preditivo supervisionado capaz de prever a probabilidade de sobrevivência dos passageiros. \n"
      ]
    },
    {
      "cell_type": "markdown",
      "metadata": {
        "id": "6QkAf9jVq0z9"
      },
      "source": [
        "###**Métrica de Desempenho**\n",
        "\n",
        "Para calcular o score da competição, o Kaggle considerou a acurácia com métrica de avaliação do modelo."
      ]
    },
    {
      "cell_type": "markdown",
      "metadata": {
        "id": "zdBZ4MUhBJVP"
      },
      "source": [
        "###**Checklist**\n",
        "\n",
        "Como uma maneira de organização, irei seguir as seguintes etapas durante o desenvolvimento deste projeto.\n",
        "\n",
        "1. Obtenção dos dados\n",
        "2. Exploração dos dados\n",
        "3. Preparação dos dados\n",
        "4. Modelagem dos dados\n",
        "5. Avaliação dos resultados"
      ]
    },
    {
      "cell_type": "markdown",
      "metadata": {
        "id": "ikESOGTTmPHF"
      },
      "source": [
        "### **1.Obtenção dos Dados**\n",
        "\n",
        "Para este conjunto de dados foi utilizado os dados de umas competições mais famosas do Kaggle, [Titanic - Machine Learning From Disaster](https://www.kaggle.com/c/titanic). \n",
        "\n",
        "Este conjunto de dados está disposto de três aqruivos csv distintos, eles são: \n",
        "* **train.csv:** Dados que serão utilizados para exploração e treino do modelo\n",
        "*  **test.csv:** Dados de teste que serão utilizados para avaliar o desempenho do modelo.\n",
        "* **gender_submission.csv:** Dados que serão utilizados como base de comparação do desempenho do modelo."
      ]
    },
    {
      "cell_type": "markdown",
      "metadata": {
        "id": "i5a2dPIvB7sJ"
      },
      "source": [
        "**Libraries utilizadas:**"
      ]
    },
    {
      "cell_type": "code",
      "metadata": {
        "id": "_SWeUFcyX-jJ"
      },
      "source": [
        "import pandas as pd\n",
        "import numpy as np\n",
        "import matplotlib.pyplot as plt\n",
        "import seaborn as sns "
      ],
      "execution_count": 93,
      "outputs": []
    },
    {
      "cell_type": "code",
      "metadata": {
        "id": "_ZVKdESYcB7E"
      },
      "source": [
        "#importing train dataset\n",
        "\n",
        "train = pd.read_csv('https://raw.githubusercontent.com/brayannmb/Data-Science/main/projeto_titanic/train.csv')\n",
        "\n",
        "#importing test dataset\n",
        "\n",
        "test = pd.read_csv('https://raw.githubusercontent.com/brayannmb/Data-Science/main/projeto_titanic/test.csv')\n",
        "\n",
        "#importing gender_submission\n",
        "\n",
        "gender_submission = pd.read_csv('https://raw.githubusercontent.com/brayannmb/Data-Science/main/projeto_titanic/gender_submission.csv')"
      ],
      "execution_count": 94,
      "outputs": []
    },
    {
      "cell_type": "markdown",
      "metadata": {
        "id": "T6rShbsl_HM8"
      },
      "source": [
        "##**Data Understanding**\n",
        "\n",
        "> \"É importante entender os pontos fortes e as limitações dos dados porque raramente há uma correspondência exata para o problema\" - *Data Science para Negócios.*\n",
        "\n",
        "Na etapa atual e na seguinte, devemos conhecer melhor os dados com que estamos trabalhando e decidir se é necessário uma nova coleta de dados, pois, não é incomum buscar por novos dados para complementar e melhorar a análise de dados. \n",
        "\n"
      ]
    },
    {
      "cell_type": "markdown",
      "metadata": {
        "id": "fW_8Ty7AmKT8"
      },
      "source": [
        "###**2.Exploração dos Dados**\n",
        "\n",
        "Com o intuito de facilitar o entendimento deste projeto, a seguir está uma explicação de cada variável do conjunto de dados.\n",
        "\n",
        "Dicionário de Variáveis:\n",
        "* **PassengerID:** ID do passageiro\n",
        "* **Survived:** Se o passageiro sobreviveu (variável target)\n",
        "  * 0 = Não\n",
        "  * 1 = Sim\n",
        "* **Class:** Classe do návio\n",
        "  * 1: Primeira classe\n",
        "  * 2: Segunda classe\n",
        "  * 3: Terceira classe\n",
        "* **Name:** Nome do passegeiro\n",
        "* **Sex:** Sexo do passegeiro\n",
        "* **Age:** Idade do passageiro\n",
        "* **SibSp:** Número de irmãos/conjugês a bordo\n",
        "* **Parch:** Número de pais/filhos a bordo\n",
        "* **Ticket:** Código do ticket\n",
        "* **Cabin:** Código da cabine\n",
        "* **Embarked:** De onde aquele passegeiro embarcou\n",
        "  * C = Cherbourg \n",
        "  * Q = Queenstown \n",
        "  * S = Southampton\n",
        "\n",
        "\n",
        "Este tópico será voltado para explorar os dados com a finalidade de buscar insights que possa ajudar no entedimento deste conjunto de dados.\n",
        "\n",
        "Como uma boa prática, eu vou começar visualizando as primeiras e as últimas entradas deste conjunto de dados por meio do método `.head()`."
      ]
    },
    {
      "cell_type": "code",
      "metadata": {
        "colab": {
          "base_uri": "https://localhost:8080/",
          "height": 200
        },
        "id": "XRtbcS3vrTxs",
        "outputId": "0ed6232a-9809-47a6-917b-19d05026fafb"
      },
      "source": [
        "#primeiras entradas do dataset\n",
        "\n",
        "train.head()"
      ],
      "execution_count": 95,
      "outputs": [
        {
          "output_type": "execute_result",
          "data": {
            "text/html": [
              "<div>\n",
              "<style scoped>\n",
              "    .dataframe tbody tr th:only-of-type {\n",
              "        vertical-align: middle;\n",
              "    }\n",
              "\n",
              "    .dataframe tbody tr th {\n",
              "        vertical-align: top;\n",
              "    }\n",
              "\n",
              "    .dataframe thead th {\n",
              "        text-align: right;\n",
              "    }\n",
              "</style>\n",
              "<table border=\"1\" class=\"dataframe\">\n",
              "  <thead>\n",
              "    <tr style=\"text-align: right;\">\n",
              "      <th></th>\n",
              "      <th>PassengerId</th>\n",
              "      <th>Survived</th>\n",
              "      <th>Pclass</th>\n",
              "      <th>Name</th>\n",
              "      <th>Sex</th>\n",
              "      <th>Age</th>\n",
              "      <th>SibSp</th>\n",
              "      <th>Parch</th>\n",
              "      <th>Ticket</th>\n",
              "      <th>Fare</th>\n",
              "      <th>Cabin</th>\n",
              "      <th>Embarked</th>\n",
              "    </tr>\n",
              "  </thead>\n",
              "  <tbody>\n",
              "    <tr>\n",
              "      <th>0</th>\n",
              "      <td>1</td>\n",
              "      <td>0</td>\n",
              "      <td>3</td>\n",
              "      <td>Braund, Mr. Owen Harris</td>\n",
              "      <td>male</td>\n",
              "      <td>22.0</td>\n",
              "      <td>1</td>\n",
              "      <td>0</td>\n",
              "      <td>A/5 21171</td>\n",
              "      <td>7.2500</td>\n",
              "      <td>NaN</td>\n",
              "      <td>S</td>\n",
              "    </tr>\n",
              "    <tr>\n",
              "      <th>1</th>\n",
              "      <td>2</td>\n",
              "      <td>1</td>\n",
              "      <td>1</td>\n",
              "      <td>Cumings, Mrs. John Bradley (Florence Briggs Th...</td>\n",
              "      <td>female</td>\n",
              "      <td>38.0</td>\n",
              "      <td>1</td>\n",
              "      <td>0</td>\n",
              "      <td>PC 17599</td>\n",
              "      <td>71.2833</td>\n",
              "      <td>C85</td>\n",
              "      <td>C</td>\n",
              "    </tr>\n",
              "    <tr>\n",
              "      <th>2</th>\n",
              "      <td>3</td>\n",
              "      <td>1</td>\n",
              "      <td>3</td>\n",
              "      <td>Heikkinen, Miss. Laina</td>\n",
              "      <td>female</td>\n",
              "      <td>26.0</td>\n",
              "      <td>0</td>\n",
              "      <td>0</td>\n",
              "      <td>STON/O2. 3101282</td>\n",
              "      <td>7.9250</td>\n",
              "      <td>NaN</td>\n",
              "      <td>S</td>\n",
              "    </tr>\n",
              "    <tr>\n",
              "      <th>3</th>\n",
              "      <td>4</td>\n",
              "      <td>1</td>\n",
              "      <td>1</td>\n",
              "      <td>Futrelle, Mrs. Jacques Heath (Lily May Peel)</td>\n",
              "      <td>female</td>\n",
              "      <td>35.0</td>\n",
              "      <td>1</td>\n",
              "      <td>0</td>\n",
              "      <td>113803</td>\n",
              "      <td>53.1000</td>\n",
              "      <td>C123</td>\n",
              "      <td>S</td>\n",
              "    </tr>\n",
              "    <tr>\n",
              "      <th>4</th>\n",
              "      <td>5</td>\n",
              "      <td>0</td>\n",
              "      <td>3</td>\n",
              "      <td>Allen, Mr. William Henry</td>\n",
              "      <td>male</td>\n",
              "      <td>35.0</td>\n",
              "      <td>0</td>\n",
              "      <td>0</td>\n",
              "      <td>373450</td>\n",
              "      <td>8.0500</td>\n",
              "      <td>NaN</td>\n",
              "      <td>S</td>\n",
              "    </tr>\n",
              "  </tbody>\n",
              "</table>\n",
              "</div>"
            ],
            "text/plain": [
              "   PassengerId  Survived  Pclass  ...     Fare Cabin  Embarked\n",
              "0            1         0       3  ...   7.2500   NaN         S\n",
              "1            2         1       1  ...  71.2833   C85         C\n",
              "2            3         1       3  ...   7.9250   NaN         S\n",
              "3            4         1       1  ...  53.1000  C123         S\n",
              "4            5         0       3  ...   8.0500   NaN         S\n",
              "\n",
              "[5 rows x 12 columns]"
            ]
          },
          "metadata": {},
          "execution_count": 95
        }
      ]
    },
    {
      "cell_type": "code",
      "metadata": {
        "colab": {
          "base_uri": "https://localhost:8080/",
          "height": 200
        },
        "id": "f3cwEX7-odoB",
        "outputId": "99b6a74d-4f9f-4330-b1df-ca94a1907814"
      },
      "source": [
        "#últimas entradas do dataset\n",
        "\n",
        "train.tail()"
      ],
      "execution_count": 96,
      "outputs": [
        {
          "output_type": "execute_result",
          "data": {
            "text/html": [
              "<div>\n",
              "<style scoped>\n",
              "    .dataframe tbody tr th:only-of-type {\n",
              "        vertical-align: middle;\n",
              "    }\n",
              "\n",
              "    .dataframe tbody tr th {\n",
              "        vertical-align: top;\n",
              "    }\n",
              "\n",
              "    .dataframe thead th {\n",
              "        text-align: right;\n",
              "    }\n",
              "</style>\n",
              "<table border=\"1\" class=\"dataframe\">\n",
              "  <thead>\n",
              "    <tr style=\"text-align: right;\">\n",
              "      <th></th>\n",
              "      <th>PassengerId</th>\n",
              "      <th>Survived</th>\n",
              "      <th>Pclass</th>\n",
              "      <th>Name</th>\n",
              "      <th>Sex</th>\n",
              "      <th>Age</th>\n",
              "      <th>SibSp</th>\n",
              "      <th>Parch</th>\n",
              "      <th>Ticket</th>\n",
              "      <th>Fare</th>\n",
              "      <th>Cabin</th>\n",
              "      <th>Embarked</th>\n",
              "    </tr>\n",
              "  </thead>\n",
              "  <tbody>\n",
              "    <tr>\n",
              "      <th>886</th>\n",
              "      <td>887</td>\n",
              "      <td>0</td>\n",
              "      <td>2</td>\n",
              "      <td>Montvila, Rev. Juozas</td>\n",
              "      <td>male</td>\n",
              "      <td>27.0</td>\n",
              "      <td>0</td>\n",
              "      <td>0</td>\n",
              "      <td>211536</td>\n",
              "      <td>13.00</td>\n",
              "      <td>NaN</td>\n",
              "      <td>S</td>\n",
              "    </tr>\n",
              "    <tr>\n",
              "      <th>887</th>\n",
              "      <td>888</td>\n",
              "      <td>1</td>\n",
              "      <td>1</td>\n",
              "      <td>Graham, Miss. Margaret Edith</td>\n",
              "      <td>female</td>\n",
              "      <td>19.0</td>\n",
              "      <td>0</td>\n",
              "      <td>0</td>\n",
              "      <td>112053</td>\n",
              "      <td>30.00</td>\n",
              "      <td>B42</td>\n",
              "      <td>S</td>\n",
              "    </tr>\n",
              "    <tr>\n",
              "      <th>888</th>\n",
              "      <td>889</td>\n",
              "      <td>0</td>\n",
              "      <td>3</td>\n",
              "      <td>Johnston, Miss. Catherine Helen \"Carrie\"</td>\n",
              "      <td>female</td>\n",
              "      <td>NaN</td>\n",
              "      <td>1</td>\n",
              "      <td>2</td>\n",
              "      <td>W./C. 6607</td>\n",
              "      <td>23.45</td>\n",
              "      <td>NaN</td>\n",
              "      <td>S</td>\n",
              "    </tr>\n",
              "    <tr>\n",
              "      <th>889</th>\n",
              "      <td>890</td>\n",
              "      <td>1</td>\n",
              "      <td>1</td>\n",
              "      <td>Behr, Mr. Karl Howell</td>\n",
              "      <td>male</td>\n",
              "      <td>26.0</td>\n",
              "      <td>0</td>\n",
              "      <td>0</td>\n",
              "      <td>111369</td>\n",
              "      <td>30.00</td>\n",
              "      <td>C148</td>\n",
              "      <td>C</td>\n",
              "    </tr>\n",
              "    <tr>\n",
              "      <th>890</th>\n",
              "      <td>891</td>\n",
              "      <td>0</td>\n",
              "      <td>3</td>\n",
              "      <td>Dooley, Mr. Patrick</td>\n",
              "      <td>male</td>\n",
              "      <td>32.0</td>\n",
              "      <td>0</td>\n",
              "      <td>0</td>\n",
              "      <td>370376</td>\n",
              "      <td>7.75</td>\n",
              "      <td>NaN</td>\n",
              "      <td>Q</td>\n",
              "    </tr>\n",
              "  </tbody>\n",
              "</table>\n",
              "</div>"
            ],
            "text/plain": [
              "     PassengerId  Survived  Pclass  ...   Fare Cabin  Embarked\n",
              "886          887         0       2  ...  13.00   NaN         S\n",
              "887          888         1       1  ...  30.00   B42         S\n",
              "888          889         0       3  ...  23.45   NaN         S\n",
              "889          890         1       1  ...  30.00  C148         C\n",
              "890          891         0       3  ...   7.75   NaN         Q\n",
              "\n",
              "[5 rows x 12 columns]"
            ]
          },
          "metadata": {},
          "execution_count": 96
        }
      ]
    },
    {
      "cell_type": "markdown",
      "metadata": {
        "id": "lyBLTiK5rxxw"
      },
      "source": [
        "A partir dos resultados acima podemos ver que é uma base de dados relativamente pequena com apenas 891 entradas. É possível identificar que a coluna `Cabin` possui valores nulos em ambos os resultados.\n",
        "\n",
        "Sendo assim, um dos próximos passos será analisar quais variáveis possuem valores inválidos e qual a porcentagem destes valores em relação ao conjunto de dados.\n",
        "\n"
      ]
    },
    {
      "cell_type": "markdown",
      "metadata": {
        "id": "t73JL4tw4bjH"
      },
      "source": [
        "**Q1. Quais são os tipos de dados?**\n",
        "\n",
        "Através do método `.info()` é possível extrair diversas informações sobre o conjunto de dados, algumas delas são:\n",
        "* Tipo de dados de cada coluna\n",
        "* Valores faltantes\n",
        "* Quantidade de entradas e variáveis\n",
        "\n"
      ]
    },
    {
      "cell_type": "code",
      "metadata": {
        "colab": {
          "base_uri": "https://localhost:8080/"
        },
        "id": "ss8IyQazuNoY",
        "outputId": "c7efd0d3-c84b-456e-d6b6-3e218ce2eea3"
      },
      "source": [
        "#informações gerais sobre o conjunto de dados\n",
        "\n",
        "train.info()"
      ],
      "execution_count": 97,
      "outputs": [
        {
          "output_type": "stream",
          "name": "stdout",
          "text": [
            "<class 'pandas.core.frame.DataFrame'>\n",
            "RangeIndex: 891 entries, 0 to 890\n",
            "Data columns (total 12 columns):\n",
            " #   Column       Non-Null Count  Dtype  \n",
            "---  ------       --------------  -----  \n",
            " 0   PassengerId  891 non-null    int64  \n",
            " 1   Survived     891 non-null    int64  \n",
            " 2   Pclass       891 non-null    int64  \n",
            " 3   Name         891 non-null    object \n",
            " 4   Sex          891 non-null    object \n",
            " 5   Age          714 non-null    float64\n",
            " 6   SibSp        891 non-null    int64  \n",
            " 7   Parch        891 non-null    int64  \n",
            " 8   Ticket       891 non-null    object \n",
            " 9   Fare         891 non-null    float64\n",
            " 10  Cabin        204 non-null    object \n",
            " 11  Embarked     889 non-null    object \n",
            "dtypes: float64(2), int64(5), object(5)\n",
            "memory usage: 83.7+ KB\n"
          ]
        }
      ]
    },
    {
      "cell_type": "markdown",
      "metadata": {
        "id": "k3xyHOzlekrh"
      },
      "source": [
        "Nota-se que existem variáveis acima que possuem seu tipo primitivo `object`, porém, é declarado como object todas as variáveis que o Python não consegue identificar corretamente, sendo assim, em alguns casos prejudicial para análise.\n",
        "\n",
        "Pensando nisso, irei transformar as variáveis que devem ser categoricas para o tipo `category`."
      ]
    },
    {
      "cell_type": "code",
      "metadata": {
        "id": "Yoxa2afqc0Pq"
      },
      "source": [
        "train.PassengerId = train.PassengerId.astype('category')\n",
        "train.Pclass = train.Pclass.astype('category')\n",
        "train.Name = train.Name.astype('category')\n",
        "train.Sex = train.Sex.astype('category')\n",
        "train.Ticket = train.Ticket.astype('category')\n",
        "train.Cabin = train.Cabin.astype('category')\n",
        "train.Embarked = train.Embarked.astype('category') \n",
        "train.Survived = train.Survived.astype('category')"
      ],
      "execution_count": 98,
      "outputs": []
    },
    {
      "cell_type": "markdown",
      "metadata": {
        "id": "pN8ns1G8uO2C"
      },
      "source": [
        "De acordo com o resultado acima, foi analisado que: \n",
        "* As variáveis `Age`, `Cabin` e `Embarked` apresentam valores faltantes, especialmnete a variável `Cabin` que possuí apenas **204** valores válidos.\n",
        "* Este conjunto de dados possui 891 entradas e 12 variáveis\n",
        "\n",
        "* Variáveis quantitativas:\n",
        "  * Age\n",
        "  * Sibsp\n",
        "  * Parch\n",
        "  * Fare\n",
        "\n",
        "* Variáveis categóricas:\n",
        "  * PassengerId\n",
        "  * Survived\n",
        "  * Pclass\n",
        "  * Name\n",
        "  * Sex\n",
        "  * Ticket\n",
        "  * Cabin\n",
        "  * Embarked\n",
        "* Todos os tipos de dados estão corretos\n",
        "\n",
        "O próximo passo será buscar mais informações sobres os valores nulos deste dataset."
      ]
    },
    {
      "cell_type": "markdown",
      "metadata": {
        "id": "UDTj71U54r5L"
      },
      "source": [
        "**Q2. Qual a porcentagem de valores ausentes?**"
      ]
    },
    {
      "cell_type": "code",
      "metadata": {
        "colab": {
          "base_uri": "https://localhost:8080/"
        },
        "id": "YobTaxdXxqtu",
        "outputId": "2b6bd5fd-5abf-4d65-81c8-223b8eb714a4"
      },
      "source": [
        "train[['Age', 'Cabin', 'Embarked']].isnull().sum().sort_values(ascending=False)[:3]"
      ],
      "execution_count": 99,
      "outputs": [
        {
          "output_type": "execute_result",
          "data": {
            "text/plain": [
              "Cabin       687\n",
              "Age         177\n",
              "Embarked      2\n",
              "dtype: int64"
            ]
          },
          "metadata": {},
          "execution_count": 99
        }
      ]
    },
    {
      "cell_type": "code",
      "metadata": {
        "colab": {
          "base_uri": "https://localhost:8080/"
        },
        "id": "msS2_lh7woHF",
        "outputId": "5c98d091-062a-4db3-d324-d73f8f92879d"
      },
      "source": [
        "(train.isnull().sum() / train.shape[0]).sort_values(ascending=False)[:3] "
      ],
      "execution_count": 100,
      "outputs": [
        {
          "output_type": "execute_result",
          "data": {
            "text/plain": [
              "Cabin       0.771044\n",
              "Age         0.198653\n",
              "Embarked    0.002245\n",
              "dtype: float64"
            ]
          },
          "metadata": {},
          "execution_count": 100
        }
      ]
    },
    {
      "cell_type": "code",
      "metadata": {
        "colab": {
          "base_uri": "https://localhost:8080/"
        },
        "id": "RM0Oh8FD85E-",
        "outputId": "5f1d3dfb-40a7-4c90-ab27-d2943eb56665"
      },
      "source": [
        "train1 = train.copy()\n",
        "train1['Age'].fillna(0, inplace=True)\n",
        "train1.Age.sum()"
      ],
      "execution_count": 101,
      "outputs": [
        {
          "output_type": "execute_result",
          "data": {
            "text/plain": [
              "21205.17"
            ]
          },
          "metadata": {},
          "execution_count": 101
        }
      ]
    },
    {
      "cell_type": "markdown",
      "metadata": {
        "id": "na9v2dypynhL"
      },
      "source": [
        "A variável `Cabin` possui **77%** das suas entradas como valores nulos, a variável `Age` tem **19%** de valores nulos e a variável `Embarked` menos de **1%.**"
      ]
    },
    {
      "cell_type": "markdown",
      "metadata": {
        "id": "pp4yq3Vd5s0L"
      },
      "source": [
        "**Q3. Quais são as distribuições estatistícas das variáveis?**\n",
        "\n",
        "Por meio do método `.describe`, é possível retornar algumas medidas estatistícas básicas que facilitam muito o entendimento da distribuição dos dados."
      ]
    },
    {
      "cell_type": "code",
      "metadata": {
        "colab": {
          "base_uri": "https://localhost:8080/",
          "height": 170
        },
        "id": "ipvWg4HbGZDy",
        "outputId": "7fc7b505-924a-40c8-8069-5ca102cb12a1"
      },
      "source": [
        "#informações estatísticas\n",
        "\n",
        "train.describe().T"
      ],
      "execution_count": 102,
      "outputs": [
        {
          "output_type": "execute_result",
          "data": {
            "text/html": [
              "<div>\n",
              "<style scoped>\n",
              "    .dataframe tbody tr th:only-of-type {\n",
              "        vertical-align: middle;\n",
              "    }\n",
              "\n",
              "    .dataframe tbody tr th {\n",
              "        vertical-align: top;\n",
              "    }\n",
              "\n",
              "    .dataframe thead th {\n",
              "        text-align: right;\n",
              "    }\n",
              "</style>\n",
              "<table border=\"1\" class=\"dataframe\">\n",
              "  <thead>\n",
              "    <tr style=\"text-align: right;\">\n",
              "      <th></th>\n",
              "      <th>count</th>\n",
              "      <th>mean</th>\n",
              "      <th>std</th>\n",
              "      <th>min</th>\n",
              "      <th>25%</th>\n",
              "      <th>50%</th>\n",
              "      <th>75%</th>\n",
              "      <th>max</th>\n",
              "    </tr>\n",
              "  </thead>\n",
              "  <tbody>\n",
              "    <tr>\n",
              "      <th>Age</th>\n",
              "      <td>714.0</td>\n",
              "      <td>29.699118</td>\n",
              "      <td>14.526497</td>\n",
              "      <td>0.42</td>\n",
              "      <td>20.1250</td>\n",
              "      <td>28.0000</td>\n",
              "      <td>38.0</td>\n",
              "      <td>80.0000</td>\n",
              "    </tr>\n",
              "    <tr>\n",
              "      <th>SibSp</th>\n",
              "      <td>891.0</td>\n",
              "      <td>0.523008</td>\n",
              "      <td>1.102743</td>\n",
              "      <td>0.00</td>\n",
              "      <td>0.0000</td>\n",
              "      <td>0.0000</td>\n",
              "      <td>1.0</td>\n",
              "      <td>8.0000</td>\n",
              "    </tr>\n",
              "    <tr>\n",
              "      <th>Parch</th>\n",
              "      <td>891.0</td>\n",
              "      <td>0.381594</td>\n",
              "      <td>0.806057</td>\n",
              "      <td>0.00</td>\n",
              "      <td>0.0000</td>\n",
              "      <td>0.0000</td>\n",
              "      <td>0.0</td>\n",
              "      <td>6.0000</td>\n",
              "    </tr>\n",
              "    <tr>\n",
              "      <th>Fare</th>\n",
              "      <td>891.0</td>\n",
              "      <td>32.204208</td>\n",
              "      <td>49.693429</td>\n",
              "      <td>0.00</td>\n",
              "      <td>7.9104</td>\n",
              "      <td>14.4542</td>\n",
              "      <td>31.0</td>\n",
              "      <td>512.3292</td>\n",
              "    </tr>\n",
              "  </tbody>\n",
              "</table>\n",
              "</div>"
            ],
            "text/plain": [
              "       count       mean        std   min      25%      50%   75%       max\n",
              "Age    714.0  29.699118  14.526497  0.42  20.1250  28.0000  38.0   80.0000\n",
              "SibSp  891.0   0.523008   1.102743  0.00   0.0000   0.0000   1.0    8.0000\n",
              "Parch  891.0   0.381594   0.806057  0.00   0.0000   0.0000   0.0    6.0000\n",
              "Fare   891.0  32.204208  49.693429  0.00   7.9104  14.4542  31.0  512.3292"
            ]
          },
          "metadata": {},
          "execution_count": 102
        }
      ]
    },
    {
      "cell_type": "markdown",
      "metadata": {
        "id": "7i0-HRP6H57l"
      },
      "source": [
        "De acordo com o resultado acima, analisando a variável `Age` nos mostra que existiam bebês a bordo com menos de 1 ano de idade. \n",
        "\n",
        "A média de idades está em 29 anos. Um valor que parece não ter sido afetado, pois a mediana está bem próxima, em 28 anos. Nota-se que existe uma pessoa com 80 anos, por ser um valor muito distoante poderia ter afetado a média. \n",
        "\n",
        "Olhando para as variáveis `SibSp` e `Parch` mostram que existiam passageiros que estavam viajando com mais de 5 familiares.\n",
        "\n",
        "Infelizmente essas informações não são muito relevantes para análise em questão."
      ]
    },
    {
      "cell_type": "markdown",
      "metadata": {
        "id": "Rr5NR9U0OlRK"
      },
      "source": [
        "**Q3.De acordo com o conjunto de dados, quem teve mais chances de sobreviver? Homens ou mulheres?**\n",
        "\n",
        "Em situações de emergência, as crianças e as mulheres são resgatadas primeiro do que os homens. "
      ]
    },
    {
      "cell_type": "code",
      "metadata": {
        "id": "nN3S-IuedtkS"
      },
      "source": [
        "people_survived_df = train.loc[(train.Survived == 1)].copy()\n",
        "falecidos = train.loc[(train.Survived == 0)].copy()"
      ],
      "execution_count": 103,
      "outputs": []
    },
    {
      "cell_type": "code",
      "metadata": {
        "colab": {
          "base_uri": "https://localhost:8080/"
        },
        "id": "PzLiE6ZGRTmJ",
        "outputId": "8eafa58a-8ead-4dcb-b38d-6fb2943df8ae"
      },
      "source": [
        "#quantidade de sobreviventes e não sobreviventes\n",
        "\n",
        "people_survived = train.loc[(train.Survived == 1)].shape[0]\n",
        "print(f'Quantidade de sobreviventes: {people_survived}')\n",
        "print(f'Quantidade de não sobreviventes: {train.shape[0] - people_survived}')"
      ],
      "execution_count": 166,
      "outputs": [
        {
          "output_type": "stream",
          "name": "stdout",
          "text": [
            "Quantidade de sobreviventes: 342\n",
            "Quantidade de não sobreviventes: 549\n"
          ]
        }
      ]
    },
    {
      "cell_type": "code",
      "metadata": {
        "colab": {
          "base_uri": "https://localhost:8080/"
        },
        "id": "rN3RKMvyPQZX",
        "outputId": "c8293d64-9ae7-4d6d-e30a-51660ac88226"
      },
      "source": [
        "#quantidade de homens e mulheres\n",
        "\n",
        "male = train.loc[(train.Sex == 'male')].shape[0]\n",
        "print(f'Quantidade de homens a bordo: {male}')\n",
        "female = train.loc[(train.Sex == 'female')].shape[0]\n",
        "print(f'Quantidade de mulheres a bordo: {female}')"
      ],
      "execution_count": 107,
      "outputs": [
        {
          "output_type": "stream",
          "name": "stdout",
          "text": [
            "Quantidade de homens a bordo: 577\n",
            "Quantidade de mulheres a bordo: 314\n"
          ]
        }
      ]
    },
    {
      "cell_type": "code",
      "metadata": {
        "colab": {
          "base_uri": "https://localhost:8080/"
        },
        "id": "V9a-qVdsOaac",
        "outputId": "b7f5d23d-0e23-42af-cd79-46c64e7a7d34"
      },
      "source": [
        "male_survived = train.loc[(train.Survived == 1) & (train.Sex == 'male')].shape[0]\n",
        "print(f'Quantidade de homens que sobreviveram: {male_survived}')"
      ],
      "execution_count": 105,
      "outputs": [
        {
          "output_type": "stream",
          "name": "stdout",
          "text": [
            "Quantidade de homens que sobreviveram: 109\n"
          ]
        }
      ]
    },
    {
      "cell_type": "code",
      "metadata": {
        "colab": {
          "base_uri": "https://localhost:8080/"
        },
        "id": "imziWLM6Pvqa",
        "outputId": "dd4a9ac4-5486-41c8-f743-6c7d0bd127ae"
      },
      "source": [
        "female_survived = train.loc[(train.Survived == 1) & (train.Sex == 'female')].shape[0]\n",
        "print(f'Quantidade de mulheres que sobreviveram: {female_survived}')"
      ],
      "execution_count": 106,
      "outputs": [
        {
          "output_type": "stream",
          "name": "stdout",
          "text": [
            "Quantidade de mulheres que sobreviveram: 233\n"
          ]
        }
      ]
    },
    {
      "cell_type": "code",
      "metadata": {
        "colab": {
          "base_uri": "https://localhost:8080/"
        },
        "id": "xiSRuKEeQu0K",
        "outputId": "590c4f5b-0f4c-4949-b9cb-2ba64ef400a5"
      },
      "source": [
        "print(f'Percentual de homens que sobreviveram: {((male_survived / male) * 100):.2f}%')\n",
        "print(f'Percentual de mulheres que sobreviveram: {((female_survived / female) * 100):.2f}%')"
      ],
      "execution_count": 108,
      "outputs": [
        {
          "output_type": "stream",
          "name": "stdout",
          "text": [
            "Percentual de homens que sobreviveram: 18.89%\n",
            "Percentual de mulheres que sobreviveram: 74.20%\n"
          ]
        }
      ]
    },
    {
      "cell_type": "code",
      "metadata": {
        "id": "wx1f9DcFcjrR"
      },
      "source": [
        "vermelho1, vermelho2, vermelho3 = '#FF6F66', '#FF2E26', '#7a1b0c'\n",
        "cores = [vermelho1, vermelho1, vermelho3]\n",
        "\n",
        "vermelho, roxo = '#570400','#BD0900'"
      ],
      "execution_count": 137,
      "outputs": []
    },
    {
      "cell_type": "code",
      "metadata": {
        "colab": {
          "base_uri": "https://localhost:8080/",
          "height": 320
        },
        "id": "KZqfQ6JkuC04",
        "outputId": "d115ad06-5994-4f5f-8478-01c1a2816227"
      },
      "source": [
        "male_died = train.loc[(train.Sex == 'male') & (train.Survived == 0)].shape[0]\n",
        "female_died = train.loc[(train.Sex == 'female') & (train.Survived == 0)].shape[0]\n",
        "\n",
        "labels1 = ['Mortos', 'Sobreviventes'] \n",
        "data_male = [int(male_died), int(male_survived)]\n",
        "data_female = [female_died, female_survived]\n",
        "\n",
        "x1 = np.arange(len(labels1))\n",
        "width_bar = 0.35\n",
        "\n",
        "fig, ax = plt.subplots(figsize=(10, 5))\n",
        "\n",
        "chart = ax.bar(x1 - width_bar/2, data_male, width_bar, color=vermelho, align='center')\n",
        "chart1 = ax.bar(x1 + width_bar/2, data_female, width_bar, color=vermelho1, align='center')\n",
        "\n",
        "\n",
        "#remover bordas\n",
        "ax.spines['top'].set_visible(False)\n",
        "ax.spines['bottom'].set_visible(False)\n",
        "ax.spines['right'].set_visible(False)\n",
        "ax.spines['left'].set_visible(False)\n",
        "\n",
        "# # remover xticks do eixo x\n",
        "plt.tick_params(\n",
        "    axis='both',         \n",
        "    which='both',     \n",
        "    bottom=False,      \n",
        "    top=False,         \n",
        "    labelbottom=True)\n",
        "\n",
        "#remover eixo y\n",
        "plt.gca().axes.get_yaxis().set_visible(False)\n",
        "\n",
        "#criar função para dar labels automaticamente\n",
        "def autolabel(rects):\n",
        "    for rect in rects:\n",
        "        height = rect.get_height()\n",
        "        ax.annotate(\n",
        "                    '{}'.format(height),\n",
        "                    xy=(rect.get_x() + rect.get_width()/2,  height),\n",
        "                    xytext=(0, -20),  # offset\n",
        "                    textcoords=\"offset points\",\n",
        "                    ha='center',\n",
        "                    va='bottom',\n",
        "                    fontsize=12,\n",
        "                    color=\"white\",\n",
        "                    )\n",
        "\n",
        "plt.text(0.05, 420, '$\\\\bf{HOMENS}$\\n''81% dos homens faleceram', fontsize=14, color=vermelho)\n",
        "        \n",
        "# plotar labels dentro das barras\n",
        "autolabel(chart)\n",
        "autolabel(chart1)\n",
        "\n",
        "#adicionar labels\n",
        "ax.set_xticks(x1)\n",
        "ax.set_xticklabels(labels1)\n",
        "\n",
        "\n",
        "plt.show()\n"
      ],
      "execution_count": 156,
      "outputs": [
        {
          "output_type": "display_data",
          "data": {
            "image/png": "[encoded data removed]",
            "text/plain": [
              "<Figure size 720x360 with 1 Axes>"
            ]
          },
          "metadata": {
            "needs_background": "light"
          }
        }
      ]
    },
    {
      "cell_type": "markdown",
      "metadata": {
        "id": "3UYPSEtm4yOJ"
      },
      "source": [
        "De acordo com as informações apresentadas acima, 74% das mulheres sobreviveram, um valor muito superior ao dos homens que foi de 18%. Embora, o número homens a bordo do návio era superior ao das mulheres, uma diferença de 263 homens."
      ]
    },
    {
      "cell_type": "markdown",
      "metadata": {
        "id": "7GeaZtEVK09F"
      },
      "source": [
        "**Q4.Qual o percentual de crianças/adolescentes que sobreviveram por classe?**\n",
        "\n",
        "Para esta análise foi considerado as crianças/adolescentes de 0 a 16 anos."
      ]
    },
    {
      "cell_type": "code",
      "metadata": {
        "colab": {
          "base_uri": "https://localhost:8080/"
        },
        "id": "Bz9Afx0F53Mt",
        "outputId": "999cb270-2dcf-4279-ec70-3b8e68d1b418"
      },
      "source": [
        "kid_survived = train.loc[(train.Age < 16) & (train.Survived == 1)]['Pclass']\n",
        "kid_died = train.loc[(train.Age < 16) & (train.Survived == 0)]['Pclass']\n",
        "\n",
        "def percentual(survived, died, n_class):\n",
        "  list_survived = []\n",
        "  list_died = []\n",
        "  survived_aux = 0\n",
        "  died_aux = 0\n",
        "\n",
        "  for x in survived:\n",
        "    if x == n_class:\n",
        "      list_survived.append(x)\n",
        "      survived_aux = len(list_survived)\n",
        "\n",
        "  for c in died:\n",
        "    if c == n_class:\n",
        "      list_died.append(c)\n",
        "      died_aux = len(list_died)\n",
        "\n",
        "  percent = 100 - ((died_aux / (died_aux + survived_aux)) * 100)\n",
        "  quantity_class = died_aux + survived_aux\n",
        "  \n",
        "  return percent, quantity_class \n",
        "\n",
        "print(f'Quantidade de crianças da 1ª Classe: {(percentual(kid_survived, kid_died, 1)[1])}')\n",
        "print(f'Percentual de crianças/adolescentes que sobreviveram na 1ª classe: {(percentual(kid_survived, kid_died, 1)[0]):.0f}%\\n')\n",
        "\n",
        "print(f'Quantidade de crianças da 2ª Classe: {(percentual(kid_survived, kid_died, 2)[1])}')\n",
        "print(f'Percentual de crianças/adolescentes que sobreviveram na 2ª classe: {(percentual(kid_survived, kid_died, 2)[0]):.0f}%\\n')\n",
        "\n",
        "print(f'Quantidade de crianças da 3ª Classe: {(percentual(kid_survived, kid_died, 3)[1])}')\n",
        "print(f'Percentual de crianças/adolescentes que sobreviveram na 3ª classe: {(percentual(kid_survived, kid_died, 3)[0]):.0f}%')\n"
      ],
      "execution_count": 113,
      "outputs": [
        {
          "output_type": "stream",
          "name": "stdout",
          "text": [
            "Quantidade de crianças da 1ª Classe: 6\n",
            "Percentual de crianças/adolescentes que sobreviveram na 1ª classe: 83%\n",
            "\n",
            "Quantidade de crianças da 2ª Classe: 19\n",
            "Percentual de crianças/adolescentes que sobreviveram na 2ª classe: 100%\n",
            "\n",
            "Quantidade de crianças da 3ª Classe: 58\n",
            "Percentual de crianças/adolescentes que sobreviveram na 3ª classe: 43%\n"
          ]
        }
      ]
    },
    {
      "cell_type": "code",
      "metadata": {
        "id": "2Vmna6JfLQud"
      },
      "source": [
        "value_class1 = int((percentual(kid_survived, kid_died, 1)[0]))\n",
        "value_class2 = int((percentual(kid_survived, kid_died, 2)[0]))\n",
        "value_class3 = int((percentual(kid_survived, kid_died, 3)[0]))\n",
        "\n",
        "labels2 = ['1ª Classe', '2ª Classe', '3ª Classe']\n",
        "values2 = [value_class1, value_class2, value_class3]\n",
        "\n",
        "x2 = np.arange(len(labels2))\n",
        "width_bar2 = 0.55"
      ],
      "execution_count": 114,
      "outputs": []
    },
    {
      "cell_type": "code",
      "metadata": {
        "colab": {
          "base_uri": "https://localhost:8080/",
          "height": 432
        },
        "id": "DslIEZi5oTjM",
        "outputId": "f339d553-fe9e-48f9-fd37-4de42b504b67"
      },
      "source": [
        "fig, ax = plt.subplots(figsize= (10,6))\n",
        "\n",
        "bars_crianca_sob = ax.bar(x2 - width_bar2/2, values2, width_bar2, label='Antes', color=cores, align='edge')\n",
        "\n",
        "#adicionar labels\n",
        "ax.set_xticks(x2)\n",
        "ax.set_xticklabels(labels2)\n",
        "\n",
        "#remover grid\n",
        "ax.spines['right'].set_visible(False)\n",
        "ax.spines['left'].set_visible(False)\n",
        "ax.spines['top'].set_visible(False)\n",
        "ax.spines['bottom'].set_visible(False)\n",
        "\n",
        "#remover eixo y\n",
        "plt.gca().axes.get_yaxis().set_visible(False)\n",
        "\n",
        "# # remover xticks do eixo x\n",
        "plt.tick_params(\n",
        "    axis='both',         \n",
        "    which='both',     \n",
        "    bottom=False,      \n",
        "    top=False,         \n",
        "    labelbottom=True)\n",
        "\n",
        "\n",
        "#criar função para dar labels automaticamente\n",
        "def autolabel(rects):\n",
        "    for rect in rects:\n",
        "        height = rect.get_height()\n",
        "        ax.annotate(\n",
        "                    '{}'.format(height),\n",
        "                    xy=(rect.get_x() + rect.get_width()/2.2,  height),\n",
        "                    xytext=(0, -20),  # offset\n",
        "                    textcoords=\"offset points\",\n",
        "                    ha='center',\n",
        "                    va='bottom',\n",
        "                    fontsize=12,\n",
        "                    color=\"white\",\n",
        "                    )\n",
        "        \n",
        "# plotar labels dentro das barras\n",
        "autolabel(bars_crianca_sob)\n",
        "\n",
        "# plotar título\n",
        "plt.text(-0.28, 120, 'Crianças Sobreviventes por Classe do Titanic',\n",
        "         fontsize=16, \n",
        "         color=vermelho3,\n",
        "         weight='bold')\n",
        "\n",
        "ax.annotate(\"Este gráfico contém o percentual de crianças e adolescentes\\n\"\n",
        "            \"até 16 anos que sobreviveram em cada classe do návio.\",\n",
        "            xy=(.078, .920), xycoords='figure fraction',\n",
        "            horizontalalignment='left', verticalalignment='top',\n",
        "            fontsize=12,\n",
        "            color=vermelho3)\n",
        "\n",
        "# plotar título\n",
        "plt.text(0.009, 77.455, '%',\n",
        "         fontsize=12, \n",
        "         color='#FFFFFF')\n",
        "# plotar título\n",
        "plt.text(1.026, 94.480, '%',\n",
        "         fontsize=12, \n",
        "         color='white')\n",
        "# plotar título\n",
        "plt.text(2.009, 37.570, '%',\n",
        "         fontsize=12, \n",
        "         color='white')\n",
        "\n",
        "plt.text(2.4, 43.5,\n",
        "         \"$\\\\bf{RESULTADO}$\\n\",\n",
        "         verticalalignment=\"top\",\n",
        "         fontsize=12,\n",
        "         color=vermelho3)\n",
        "\n",
        "plt.text(2.4, 37,\n",
        "         \"Na 3ª classe foi encontrado o menor percentual\\n\"\n",
        "         \"de crianças sobreviventes, com 43%. No entanto, \\n\"\n",
        "         \"vale ressaltar que essa classe possuia uma\\n\"\n",
        "         \"quantidade superior de crianças.\\n\"\n",
        "         ,\n",
        "         verticalalignment=\"top\",\n",
        "         fontsize=12,\n",
        "         color=vermelho3)\n",
        "\n",
        "plt.show()"
      ],
      "execution_count": 172,
      "outputs": [
        {
          "output_type": "display_data",
          "data": {
            "image/png": "[encoded data removed]",
            "text/plain": [
              "<Figure size 720x432 with 1 Axes>"
            ]
          },
          "metadata": {
            "needs_background": "light"
          }
        }
      ]
    },
    {
      "cell_type": "markdown",
      "metadata": {
        "id": "dr9AWKtH5-5a"
      },
      "source": [
        "De acordo com a situção de emergência, as crianças deveriam ser salvas primeiro, porém, os dados mostram que as crianças que estavam na 3ª classe tiveram chances menores de sobreviver a tragédia."
      ]
    },
    {
      "cell_type": "markdown",
      "metadata": {
        "id": "7WP9qlXNUh47"
      },
      "source": [
        "**Q5. Qual classe teve o maior número de sobreviventes?**\n",
        "\n",
        "Será que algumas das classes teve maiores chances de sobrevivência?"
      ]
    },
    {
      "cell_type": "code",
      "metadata": {
        "colab": {
          "base_uri": "https://localhost:8080/"
        },
        "id": "0hN8VHW4dwhP",
        "outputId": "2777e36f-8b6d-49bd-ee51-3d818f3241cb"
      },
      "source": [
        "people_survived2 = train.loc[(train.Survived == 1)]['Pclass']\n",
        "\n",
        "def sobreviventes(people_died, all_people, n_classe):\n",
        "  \n",
        "  people = []\n",
        "  people_survived = []\n",
        "  people_aux = 0\n",
        "  people_died_aux = 0\n",
        "  \n",
        "  for x in people_died:\n",
        "    if x == n_classe:\n",
        "      people_survived.append(x)\n",
        "      people_died_aux = len(people_survived)\n",
        "  \n",
        "  \n",
        "  for c in all_people:\n",
        "    if c == n_classe:\n",
        "      people.append(c)\n",
        "      people_aux = len(people)\n",
        "  \n",
        "\n",
        "  percentual = (people_died_aux / people_aux) * 100\n",
        "  \n",
        "  return percentual\n",
        "\n",
        "  #{(percentual(kid_survived, kid_died, 1)[0]):.0f}\n",
        "\n",
        "print(f'Percentual de sobreviventes na 1ª classe: {(sobreviventes(people_survived2, train.Pclass, 1)):.0f}%\\n')\n",
        "print(f'Percentual de sobreviventes na 2ª classe: {(sobreviventes(people_survived2, train.Pclass, 2)):.0f}%\\n')\n",
        "print(f'Percentual de sobreviventes na 3ª classe: {(sobreviventes(people_survived2, train.Pclass, 3)):.0f}%\\n')"
      ],
      "execution_count": 116,
      "outputs": [
        {
          "output_type": "stream",
          "name": "stdout",
          "text": [
            "Percentual de sobreviventes na 1ª classe: 63%\n",
            "\n",
            "Percentual de sobreviventes na 2ª classe: 47%\n",
            "\n",
            "Percentual de sobreviventes na 3ª classe: 24%\n",
            "\n"
          ]
        }
      ]
    },
    {
      "cell_type": "code",
      "metadata": {
        "id": "Ol0IyCdkTtxT"
      },
      "source": [
        "values_class1 = round(sobreviventes(people_survived2, train.Pclass, 1))\n",
        "values_class2 = round(sobreviventes(people_survived2, train.Pclass, 2))\n",
        "values_class3 = round(sobreviventes(people_survived2, train.Pclass, 3))\n",
        "\n",
        "values_sobreviventes = [values_class1, values_class2, values_class3]\n",
        "\n",
        "vermelho1, vermelho2, vermelho3 = '#FF6F66', '#ff9e81', '#7a1b0c'\n",
        "cores = [vermelho2, vermelho1, vermelho3]\n",
        "x1 = np.arange(len(labels2))\n",
        "width_bar = 0.55"
      ],
      "execution_count": 117,
      "outputs": []
    },
    {
      "cell_type": "code",
      "metadata": {
        "colab": {
          "base_uri": "https://localhost:8080/",
          "height": 453
        },
        "id": "fZZR9_jHU4LT",
        "outputId": "213f8ec3-a558-45e4-d983-caae2cd2cc28"
      },
      "source": [
        "fig, ax = plt.subplots(figsize= (10,6))\n",
        "\n",
        "bars_sobreviventes = ax.bar(x1 - width_bar/2, values_sobreviventes, width_bar, label='Antes', color=cores, align='edge')\n",
        "\n",
        "#adicionar labels\n",
        "x1 = np.arange(len(labels2))\n",
        "ax.set_xticks(x1)\n",
        "ax.set_xticklabels(labels2)\n",
        "\n",
        "#remover grid\n",
        "ax.spines['right'].set_visible(False)\n",
        "ax.spines['left'].set_visible(False)\n",
        "ax.spines['top'].set_visible(False)\n",
        "ax.spines['bottom'].set_visible(False)\n",
        "\n",
        "#remover eixo y\n",
        "plt.gca().axes.get_yaxis().set_visible(False)\n",
        "\n",
        "# # remover xticks do eixo x\n",
        "plt.tick_params(\n",
        "    axis='both',         \n",
        "    which='both',     \n",
        "    bottom=False,      \n",
        "    top=False,         \n",
        "    labelbottom=True)\n",
        "\n",
        "\n",
        "#criar função para dar labels automaticamente\n",
        "def autolabel(rects):\n",
        "    for rect in rects:\n",
        "        height = rect.get_height()\n",
        "        ax.annotate(\n",
        "                    '{}'.format(height),\n",
        "                    xy=(rect.get_x() + rect.get_width()/2.2,  height),\n",
        "                    xytext=(0, -20),  # offset\n",
        "                    textcoords=\"offset points\",\n",
        "                    ha='center',\n",
        "                    va='bottom',\n",
        "                    fontsize=12,\n",
        "                    color=\"white\",\n",
        "                    )\n",
        "        \n",
        "# plotar labels dentro das barras\n",
        "autolabel(bars_sobreviventes)\n",
        "\n",
        "# plotar título\n",
        "plt.text(-0.28, 80, 'Sobreviventes',\n",
        "         fontsize=16, \n",
        "         color=vermelho3,\n",
        "         weight='bold')\n",
        "\n",
        "ax.annotate(\"Este gráfico contém o percentual de sobreviventes\\n\"\n",
        "            \"por classe do Titanic.\",\n",
        "            xy=(.074, .930), xycoords='figure fraction',\n",
        "            horizontalalignment='left', verticalalignment='top',\n",
        "            fontsize=12,\n",
        "            color=vermelho3)\n",
        "\n",
        "# plotar título\n",
        "plt.text(0.009, 59.600, '%',\n",
        "         fontsize=12, \n",
        "         color='white')\n",
        "# plotar título\n",
        "plt.text(1.009, 43.480, '%',\n",
        "         fontsize=12, \n",
        "         color='white')\n",
        "# plotar título\n",
        "plt.text(2.009, 20.570, '%',\n",
        "         fontsize=12, \n",
        "         color='white')\n",
        "\n",
        "plt.text(2.4, 24,\n",
        "         \"$\\\\bf{RESULTADO}$\\n\",\n",
        "         verticalalignment=\"top\",\n",
        "         fontsize=12,\n",
        "         color=vermelho3)\n",
        "\n",
        "plt.text(2.4, 18,\n",
        "         \"A 3ª classe teve o menor percentual de sobreviventes.\\n\"\n",
        "         \"No entanto, nesta classe haviam 275 pessoas a mais\\n\"\n",
        "         \"em relação a 1ª classe e 307 para 2ª classe.\\n\"\n",
        "         ,\n",
        "         verticalalignment=\"top\",\n",
        "         fontsize=12,\n",
        "         color=vermelho3)\n",
        "\n",
        "plt.show()"
      ],
      "execution_count": 118,
      "outputs": [
        {
          "output_type": "display_data",
          "data": {
            "image/png": "[encoded data removed]",
            "text/plain": [
              "<Figure size 720x432 with 1 Axes>"
            ]
          },
          "metadata": {
            "needs_background": "light"
          }
        }
      ]
    },
    {
      "cell_type": "markdown",
      "metadata": {
        "id": "2H518r3o3w_Z"
      },
      "source": [
        "Analisando os dados, podemos confirmar a suposição de que uma classe teve mais chances de sobrevivência do que as demais. Mais da metade das pessoas que estavam na 1ª classe conseguiram escapar com vida da tragédia, visto que a classe se situava mais próxima do convés, lugar onde estavam os botes.\n",
        "\n"
      ]
    },
    {
      "cell_type": "markdown",
      "metadata": {
        "id": "VuBalvZvDims"
      },
      "source": [
        "**Q6. Qual era a faxetária de idade dos sobreviventes do Titanic? A pessoa mais velha que estava na tragédia sobreviveu?**\n",
        "\n",
        "Neste tópico irei abordar informações relacionadas as idades de pessoas que falareceram e também das que sobreviveram. \n",
        "\n",
        "Além disso, julguei interessante em saber se a pessoa mais velha que estava abordo do Titanic sobreviveu ou não."
      ]
    },
    {
      "cell_type": "code",
      "metadata": {
        "colab": {
          "base_uri": "https://localhost:8080/",
          "height": 350
        },
        "id": "fXD9yRn5a4pR",
        "outputId": "fb0c7043-6e6f-42cf-dd89-1bb0e5ed4001"
      },
      "source": [
        "fig, ax = plt.subplots(nrows= 1, ncols= 2, figsize=(12,5))\n",
        "\n",
        "age_survived = train.loc[(train.Survived == 1)].copy()\n",
        "age_died = train.loc[(train.Survived == 0)].copy()\n",
        "\n",
        "sns.histplot(data=age_survived, x=\"Age\", kde=True, ax=ax[0])\n",
        "sns.histplot(data=age_died, x=\"Age\", kde=True, ax=ax[1])\n",
        "\n",
        "ax[0].set_title('Sobreviventes')\n",
        "ax[1].set_title('Não Sobreviventes')\n",
        "\n",
        "plt.show()"
      ],
      "execution_count": 157,
      "outputs": [
        {
          "output_type": "display_data",
          "data": {
            "image/png": "[encoded data removed]",
            "text/plain": [
              "<Figure size 864x360 with 2 Axes>"
            ]
          },
          "metadata": {
            "needs_background": "light"
          }
        }
      ]
    },
    {
      "cell_type": "markdown",
      "metadata": {
        "id": "651WWeYCkpx7"
      },
      "source": [
        "Analisando os gráficos acima, nota-se que as faxetárias de idades estão entre 18 e 38 anos. Um ponto importante no gráfico de sobreviventes é o pico em idades de 0-5 anos, que confirma a hipótese de que as crianças e as mulheres foram salvas primeiro.\n"
      ]
    },
    {
      "cell_type": "code",
      "metadata": {
        "colab": {
          "base_uri": "https://localhost:8080/",
          "height": 95
        },
        "id": "ZEbJD96MbWq2",
        "outputId": "03897705-71c9-413c-e4dd-793f517e5bed"
      },
      "source": [
        "print(f'Idade da pessoa mais velha: {train.Age.max()}')\n",
        "train.loc[(train.Age == 80)]"
      ],
      "execution_count": 169,
      "outputs": [
        {
          "output_type": "stream",
          "name": "stdout",
          "text": [
            "Idade da pessoa mais velha: 80.0\n"
          ]
        },
        {
          "output_type": "execute_result",
          "data": {
            "text/html": [
              "<div>\n",
              "<style scoped>\n",
              "    .dataframe tbody tr th:only-of-type {\n",
              "        vertical-align: middle;\n",
              "    }\n",
              "\n",
              "    .dataframe tbody tr th {\n",
              "        vertical-align: top;\n",
              "    }\n",
              "\n",
              "    .dataframe thead th {\n",
              "        text-align: right;\n",
              "    }\n",
              "</style>\n",
              "<table border=\"1\" class=\"dataframe\">\n",
              "  <thead>\n",
              "    <tr style=\"text-align: right;\">\n",
              "      <th></th>\n",
              "      <th>PassengerId</th>\n",
              "      <th>Survived</th>\n",
              "      <th>Pclass</th>\n",
              "      <th>Name</th>\n",
              "      <th>Sex</th>\n",
              "      <th>Age</th>\n",
              "      <th>SibSp</th>\n",
              "      <th>Parch</th>\n",
              "      <th>Ticket</th>\n",
              "      <th>Fare</th>\n",
              "      <th>Cabin</th>\n",
              "      <th>Embarked</th>\n",
              "    </tr>\n",
              "  </thead>\n",
              "  <tbody>\n",
              "    <tr>\n",
              "      <th>630</th>\n",
              "      <td>631</td>\n",
              "      <td>1</td>\n",
              "      <td>1</td>\n",
              "      <td>Barkworth, Mr. Algernon Henry Wilson</td>\n",
              "      <td>male</td>\n",
              "      <td>80.0</td>\n",
              "      <td>0</td>\n",
              "      <td>0</td>\n",
              "      <td>27042</td>\n",
              "      <td>30.0</td>\n",
              "      <td>A23</td>\n",
              "      <td>S</td>\n",
              "    </tr>\n",
              "  </tbody>\n",
              "</table>\n",
              "</div>"
            ],
            "text/plain": [
              "    PassengerId Survived Pclass  ...  Fare Cabin  Embarked\n",
              "630         631        1      1  ...  30.0   A23         S\n",
              "\n",
              "[1 rows x 12 columns]"
            ]
          },
          "metadata": {},
          "execution_count": 169
        }
      ]
    },
    {
      "cell_type": "markdown",
      "metadata": {
        "id": "9adDZTKS-_y7"
      },
      "source": [
        "Mr. Algernon Henry Wilson, foi a pessoa mais velha a bordo do Naufrágio do Titanic e um dos sobreviventes da tragédia. De acordo com a distribuição de idade dos sobreviventes, Mr. Algernon pode ser considerado um outlier entre as pessoas que sobreviveram a tragédia.\n",
        "\n",
        "[Neste link]((https://www.encyclopedia-titanica.org/titanic-survivor/algernon-barkworth.html)) é possível saber um pouco mais sobre a vida dele."
      ]
    },
    {
      "cell_type": "code",
      "metadata": {
        "id": "0WiJMQzsoyGr"
      },
      "source": [
        ""
      ],
      "execution_count": null,
      "outputs": []
    }
  ]
}